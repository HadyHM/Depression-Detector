{
 "cells": [
  {
   "cell_type": "markdown",
   "metadata": {},
   "source": [
    "[](http://)"
   ]
  },
  {
   "cell_type": "markdown",
   "metadata": {},
   "source": [
    "#                                     **PREDICTION OF DEPRESSION**"
   ]
  },
  {
   "cell_type": "code",
   "execution_count": 3,
   "metadata": {},
   "outputs": [],
   "source": [
    "import numpy as np\n",
    "import pandas as pd \n",
    "from matplotlib import pyplot as plt\n",
    "import seaborn as sns\n",
    "import os\n",
    "for dirname, _, filenames in os.walk('/kaggle/input'):\n",
    "    for filename in filenames:\n",
    "        print(os.path.join(dirname, filename))"
   ]
  },
  {
   "cell_type": "code",
   "execution_count": 37,
   "metadata": {
    "tags": []
   },
   "outputs": [
    {
     "data": {
      "text/html": [
       "<div>\n",
       "<style scoped>\n",
       "    .dataframe tbody tr th:only-of-type {\n",
       "        vertical-align: middle;\n",
       "    }\n",
       "\n",
       "    .dataframe tbody tr th {\n",
       "        vertical-align: top;\n",
       "    }\n",
       "\n",
       "    .dataframe thead th {\n",
       "        text-align: right;\n",
       "    }\n",
       "</style>\n",
       "<table border=\"1\" class=\"dataframe\">\n",
       "  <thead>\n",
       "    <tr style=\"text-align: right;\">\n",
       "      <th></th>\n",
       "      <th>Q1A</th>\n",
       "      <th>Q1I</th>\n",
       "      <th>Q1E</th>\n",
       "      <th>Q2A</th>\n",
       "      <th>Q2I</th>\n",
       "      <th>Q2E</th>\n",
       "      <th>Q3A</th>\n",
       "      <th>Q3I</th>\n",
       "      <th>Q3E</th>\n",
       "      <th>Q4A</th>\n",
       "      <th>...</th>\n",
       "      <th>screensize</th>\n",
       "      <th>uniquenetworklocation</th>\n",
       "      <th>hand</th>\n",
       "      <th>religion</th>\n",
       "      <th>orientation</th>\n",
       "      <th>race</th>\n",
       "      <th>voted</th>\n",
       "      <th>married</th>\n",
       "      <th>familysize</th>\n",
       "      <th>major</th>\n",
       "    </tr>\n",
       "  </thead>\n",
       "  <tbody>\n",
       "    <tr>\n",
       "      <th>0</th>\n",
       "      <td>4</td>\n",
       "      <td>28</td>\n",
       "      <td>3890</td>\n",
       "      <td>4</td>\n",
       "      <td>25</td>\n",
       "      <td>2122</td>\n",
       "      <td>2</td>\n",
       "      <td>16</td>\n",
       "      <td>1944</td>\n",
       "      <td>4</td>\n",
       "      <td>...</td>\n",
       "      <td>1</td>\n",
       "      <td>1</td>\n",
       "      <td>1</td>\n",
       "      <td>12</td>\n",
       "      <td>1</td>\n",
       "      <td>10</td>\n",
       "      <td>2</td>\n",
       "      <td>1</td>\n",
       "      <td>2</td>\n",
       "      <td>NaN</td>\n",
       "    </tr>\n",
       "    <tr>\n",
       "      <th>1</th>\n",
       "      <td>4</td>\n",
       "      <td>2</td>\n",
       "      <td>8118</td>\n",
       "      <td>1</td>\n",
       "      <td>36</td>\n",
       "      <td>2890</td>\n",
       "      <td>2</td>\n",
       "      <td>35</td>\n",
       "      <td>4777</td>\n",
       "      <td>3</td>\n",
       "      <td>...</td>\n",
       "      <td>2</td>\n",
       "      <td>1</td>\n",
       "      <td>2</td>\n",
       "      <td>7</td>\n",
       "      <td>0</td>\n",
       "      <td>70</td>\n",
       "      <td>2</td>\n",
       "      <td>1</td>\n",
       "      <td>4</td>\n",
       "      <td>NaN</td>\n",
       "    </tr>\n",
       "    <tr>\n",
       "      <th>2</th>\n",
       "      <td>3</td>\n",
       "      <td>7</td>\n",
       "      <td>5784</td>\n",
       "      <td>1</td>\n",
       "      <td>33</td>\n",
       "      <td>4373</td>\n",
       "      <td>4</td>\n",
       "      <td>41</td>\n",
       "      <td>3242</td>\n",
       "      <td>1</td>\n",
       "      <td>...</td>\n",
       "      <td>2</td>\n",
       "      <td>1</td>\n",
       "      <td>1</td>\n",
       "      <td>4</td>\n",
       "      <td>3</td>\n",
       "      <td>60</td>\n",
       "      <td>1</td>\n",
       "      <td>1</td>\n",
       "      <td>3</td>\n",
       "      <td>NaN</td>\n",
       "    </tr>\n",
       "    <tr>\n",
       "      <th>3</th>\n",
       "      <td>2</td>\n",
       "      <td>23</td>\n",
       "      <td>5081</td>\n",
       "      <td>3</td>\n",
       "      <td>11</td>\n",
       "      <td>6837</td>\n",
       "      <td>2</td>\n",
       "      <td>37</td>\n",
       "      <td>5521</td>\n",
       "      <td>1</td>\n",
       "      <td>...</td>\n",
       "      <td>2</td>\n",
       "      <td>1</td>\n",
       "      <td>2</td>\n",
       "      <td>4</td>\n",
       "      <td>5</td>\n",
       "      <td>70</td>\n",
       "      <td>2</td>\n",
       "      <td>1</td>\n",
       "      <td>5</td>\n",
       "      <td>biology</td>\n",
       "    </tr>\n",
       "    <tr>\n",
       "      <th>4</th>\n",
       "      <td>2</td>\n",
       "      <td>36</td>\n",
       "      <td>3215</td>\n",
       "      <td>2</td>\n",
       "      <td>13</td>\n",
       "      <td>7731</td>\n",
       "      <td>3</td>\n",
       "      <td>5</td>\n",
       "      <td>4156</td>\n",
       "      <td>4</td>\n",
       "      <td>...</td>\n",
       "      <td>2</td>\n",
       "      <td>2</td>\n",
       "      <td>3</td>\n",
       "      <td>10</td>\n",
       "      <td>1</td>\n",
       "      <td>10</td>\n",
       "      <td>2</td>\n",
       "      <td>1</td>\n",
       "      <td>4</td>\n",
       "      <td>Psychology</td>\n",
       "    </tr>\n",
       "  </tbody>\n",
       "</table>\n",
       "<p>5 rows × 172 columns</p>\n",
       "</div>"
      ],
      "text/plain": [
       "   Q1A  Q1I   Q1E  Q2A  Q2I   Q2E  Q3A  Q3I   Q3E  Q4A  ...  screensize  \\\n",
       "0    4   28  3890    4   25  2122    2   16  1944    4  ...           1   \n",
       "1    4    2  8118    1   36  2890    2   35  4777    3  ...           2   \n",
       "2    3    7  5784    1   33  4373    4   41  3242    1  ...           2   \n",
       "3    2   23  5081    3   11  6837    2   37  5521    1  ...           2   \n",
       "4    2   36  3215    2   13  7731    3    5  4156    4  ...           2   \n",
       "\n",
       "   uniquenetworklocation  hand  religion  orientation  race  voted  married  \\\n",
       "0                      1     1        12            1    10      2        1   \n",
       "1                      1     2         7            0    70      2        1   \n",
       "2                      1     1         4            3    60      1        1   \n",
       "3                      1     2         4            5    70      2        1   \n",
       "4                      2     3        10            1    10      2        1   \n",
       "\n",
       "   familysize       major  \n",
       "0           2         NaN  \n",
       "1           4         NaN  \n",
       "2           3         NaN  \n",
       "3           5     biology  \n",
       "4           4  Psychology  \n",
       "\n",
       "[5 rows x 172 columns]"
      ]
     },
     "execution_count": 37,
     "metadata": {},
     "output_type": "execute_result"
    }
   ],
   "source": [
    "data=pd.read_csv('data.csv',delimiter='\\t')\n",
    "data.head()"
   ]
  },
  {
   "cell_type": "markdown",
   "metadata": {},
   "source": [
    "**Removing columns stating the time or position where the questions were answered**\n",
    "\n",
    "**Also Removing columns**\n",
    "\n",
    "Introelapse->The time spent on the introduction/landing page\n",
    "\n",
    "Testelapse->The time spent on all the DASS questions \n",
    "\n",
    "Surveyelapse->The time spent answering the rest of the demographic and survey questions\n"
   ]
  },
  {
   "cell_type": "markdown",
   "metadata": {
    "tags": []
   },
   "source": [
    "\n",
    "**The Ten Item Personality Inventory was administered**.\n",
    "\n",
    "**The TIPI items were rated \"I see myself as:\" _____ such that**\n",
    "\n",
    "* 1 = Disagree strongly\n",
    "* 2 = Disagree moderately\n",
    "* 3 = Disagree a little\n",
    "* 4 = Neither agree nor disagree\n",
    "* 5 = Agree a little\n",
    "* 6 = Agree moderately\n",
    "* 7 = Agree strongly "
   ]
  },
  {
   "cell_type": "code",
   "execution_count": 38,
   "metadata": {},
   "outputs": [
    {
     "name": "stdout",
     "output_type": "stream",
     "text": [
      "Shape (39775, 68)\n",
      "Attributes Index(['Q1A', 'Q2A', 'Q3A', 'Q4A', 'Q5A', 'Q6A', 'Q7A', 'Q8A', 'Q9A', 'Q10A',\n",
      "       'Q11A', 'Q12A', 'Q13A', 'Q14A', 'Q15A', 'Q16A', 'Q17A', 'Q18A', 'Q19A',\n",
      "       'Q20A', 'Q21A', 'Q22A', 'Q23A', 'Q24A', 'Q25A', 'Q26A', 'Q27A', 'Q28A',\n",
      "       'Q29A', 'Q30A', 'Q31A', 'Q32A', 'Q33A', 'Q34A', 'Q35A', 'Q36A', 'Q37A',\n",
      "       'Q38A', 'Q39A', 'Q40A', 'Q41A', 'Q42A', 'country',\n",
      "       'Extraverted-enthusiastic', 'Critical-quarrelsome',\n",
      "       'Dependable-self_disciplined', 'Anxious-easily upset',\n",
      "       'Open to new experiences-complex', 'Reserved-quiet', 'Sympathetic-warm',\n",
      "       'Disorganized-careless', 'Calm-emotionally_stable',\n",
      "       'Conventional-uncreative', 'education', 'urban', 'gender', 'engnat',\n",
      "       'age', 'screensize', 'uniquenetworklocation', 'hand', 'religion',\n",
      "       'orientation', 'race', 'voted', 'married', 'familysize', 'major'],\n",
      "      dtype='object')\n"
     ]
    }
   ],
   "source": [
    "data_1=data.copy()\n",
    "data_1['major']=data_1['major'].replace(np.nan,'No Degree')\n",
    "time = [i for i in data_1.iloc[:,0:126] if  'E' in i]\n",
    "position = [i for i in data_1.iloc[:,0:126] if  'I' in i]\n",
    "data_1=data_1.drop(position,axis=1)\n",
    "data_1=data_1.drop(time,axis=1)\n",
    "data_1=data_1.drop(data_1.iloc[:,43:47],axis=1)\n",
    "data_2=data_1.copy()\n",
    "data_2=data_2.drop(data_2.iloc[:,53:69],axis=1)\n",
    "data_2=data_2.replace(to_replace=0,value=3)\n",
    "data_2=data_2.rename(columns={'TIPI1':'Extraverted-enthusiastic','TIPI2':'Critical-quarrelsome',\n",
    "                            'TIPI3':'Dependable-self_disciplined','TIPI4':'Anxious-easily upset',\n",
    "                            'TIPI5':'Open to new experiences-complex','TIPI6':'Reserved-quiet',\n",
    "                            'TIPI7':'Sympathetic-warm','TIPI8':'Disorganized-careless','TIPI9':'Calm-emotionally_stable',\n",
    "                            'TIPI10':'Conventional-uncreative'})\n",
    "print('Shape',data_2.shape)\n",
    "print('Attributes',data_2.columns)"
   ]
  },
  {
   "cell_type": "code",
   "execution_count": 39,
   "metadata": {},
   "outputs": [
    {
     "data": {
      "text/html": [
       "<div>\n",
       "<style scoped>\n",
       "    .dataframe tbody tr th:only-of-type {\n",
       "        vertical-align: middle;\n",
       "    }\n",
       "\n",
       "    .dataframe tbody tr th {\n",
       "        vertical-align: top;\n",
       "    }\n",
       "\n",
       "    .dataframe thead th {\n",
       "        text-align: right;\n",
       "    }\n",
       "</style>\n",
       "<table border=\"1\" class=\"dataframe\">\n",
       "  <thead>\n",
       "    <tr style=\"text-align: right;\">\n",
       "      <th></th>\n",
       "      <th>Q1A</th>\n",
       "      <th>Q2A</th>\n",
       "      <th>Q3A</th>\n",
       "      <th>Q4A</th>\n",
       "      <th>Q5A</th>\n",
       "      <th>Q6A</th>\n",
       "      <th>Q7A</th>\n",
       "      <th>Q8A</th>\n",
       "      <th>Q9A</th>\n",
       "      <th>Q10A</th>\n",
       "      <th>...</th>\n",
       "      <th>screensize</th>\n",
       "      <th>uniquenetworklocation</th>\n",
       "      <th>hand</th>\n",
       "      <th>religion</th>\n",
       "      <th>orientation</th>\n",
       "      <th>race</th>\n",
       "      <th>voted</th>\n",
       "      <th>married</th>\n",
       "      <th>familysize</th>\n",
       "      <th>major</th>\n",
       "    </tr>\n",
       "  </thead>\n",
       "  <tbody>\n",
       "    <tr>\n",
       "      <th>0</th>\n",
       "      <td>4</td>\n",
       "      <td>4</td>\n",
       "      <td>2</td>\n",
       "      <td>4</td>\n",
       "      <td>4</td>\n",
       "      <td>4</td>\n",
       "      <td>4</td>\n",
       "      <td>4</td>\n",
       "      <td>2</td>\n",
       "      <td>1</td>\n",
       "      <td>...</td>\n",
       "      <td>1</td>\n",
       "      <td>1</td>\n",
       "      <td>1</td>\n",
       "      <td>12</td>\n",
       "      <td>1</td>\n",
       "      <td>10</td>\n",
       "      <td>2</td>\n",
       "      <td>1</td>\n",
       "      <td>2</td>\n",
       "      <td>No Degree</td>\n",
       "    </tr>\n",
       "    <tr>\n",
       "      <th>1</th>\n",
       "      <td>4</td>\n",
       "      <td>1</td>\n",
       "      <td>2</td>\n",
       "      <td>3</td>\n",
       "      <td>4</td>\n",
       "      <td>4</td>\n",
       "      <td>3</td>\n",
       "      <td>4</td>\n",
       "      <td>3</td>\n",
       "      <td>2</td>\n",
       "      <td>...</td>\n",
       "      <td>2</td>\n",
       "      <td>1</td>\n",
       "      <td>2</td>\n",
       "      <td>7</td>\n",
       "      <td>0</td>\n",
       "      <td>70</td>\n",
       "      <td>2</td>\n",
       "      <td>1</td>\n",
       "      <td>4</td>\n",
       "      <td>No Degree</td>\n",
       "    </tr>\n",
       "    <tr>\n",
       "      <th>2</th>\n",
       "      <td>3</td>\n",
       "      <td>1</td>\n",
       "      <td>4</td>\n",
       "      <td>1</td>\n",
       "      <td>4</td>\n",
       "      <td>3</td>\n",
       "      <td>1</td>\n",
       "      <td>3</td>\n",
       "      <td>2</td>\n",
       "      <td>4</td>\n",
       "      <td>...</td>\n",
       "      <td>2</td>\n",
       "      <td>1</td>\n",
       "      <td>1</td>\n",
       "      <td>4</td>\n",
       "      <td>3</td>\n",
       "      <td>60</td>\n",
       "      <td>1</td>\n",
       "      <td>1</td>\n",
       "      <td>3</td>\n",
       "      <td>No Degree</td>\n",
       "    </tr>\n",
       "    <tr>\n",
       "      <th>3</th>\n",
       "      <td>2</td>\n",
       "      <td>3</td>\n",
       "      <td>2</td>\n",
       "      <td>1</td>\n",
       "      <td>3</td>\n",
       "      <td>3</td>\n",
       "      <td>4</td>\n",
       "      <td>2</td>\n",
       "      <td>3</td>\n",
       "      <td>3</td>\n",
       "      <td>...</td>\n",
       "      <td>2</td>\n",
       "      <td>1</td>\n",
       "      <td>2</td>\n",
       "      <td>4</td>\n",
       "      <td>5</td>\n",
       "      <td>70</td>\n",
       "      <td>2</td>\n",
       "      <td>1</td>\n",
       "      <td>5</td>\n",
       "      <td>biology</td>\n",
       "    </tr>\n",
       "    <tr>\n",
       "      <th>4</th>\n",
       "      <td>2</td>\n",
       "      <td>2</td>\n",
       "      <td>3</td>\n",
       "      <td>4</td>\n",
       "      <td>4</td>\n",
       "      <td>2</td>\n",
       "      <td>4</td>\n",
       "      <td>4</td>\n",
       "      <td>4</td>\n",
       "      <td>3</td>\n",
       "      <td>...</td>\n",
       "      <td>2</td>\n",
       "      <td>2</td>\n",
       "      <td>3</td>\n",
       "      <td>10</td>\n",
       "      <td>1</td>\n",
       "      <td>10</td>\n",
       "      <td>2</td>\n",
       "      <td>1</td>\n",
       "      <td>4</td>\n",
       "      <td>Psychology</td>\n",
       "    </tr>\n",
       "  </tbody>\n",
       "</table>\n",
       "<p>5 rows × 84 columns</p>\n",
       "</div>"
      ],
      "text/plain": [
       "   Q1A  Q2A  Q3A  Q4A  Q5A  Q6A  Q7A  Q8A  Q9A  Q10A  ...  screensize  \\\n",
       "0    4    4    2    4    4    4    4    4    2     1  ...           1   \n",
       "1    4    1    2    3    4    4    3    4    3     2  ...           2   \n",
       "2    3    1    4    1    4    3    1    3    2     4  ...           2   \n",
       "3    2    3    2    1    3    3    4    2    3     3  ...           2   \n",
       "4    2    2    3    4    4    2    4    4    4     3  ...           2   \n",
       "\n",
       "   uniquenetworklocation  hand  religion  orientation  race  voted  married  \\\n",
       "0                      1     1        12            1    10      2        1   \n",
       "1                      1     2         7            0    70      2        1   \n",
       "2                      1     1         4            3    60      1        1   \n",
       "3                      1     2         4            5    70      2        1   \n",
       "4                      2     3        10            1    10      2        1   \n",
       "\n",
       "   familysize       major  \n",
       "0           2   No Degree  \n",
       "1           4   No Degree  \n",
       "2           3   No Degree  \n",
       "3           5     biology  \n",
       "4           4  Psychology  \n",
       "\n",
       "[5 rows x 84 columns]"
      ]
     },
     "execution_count": 39,
     "metadata": {},
     "output_type": "execute_result"
    }
   ],
   "source": [
    "data_1.head()"
   ]
  },
  {
   "cell_type": "markdown",
   "metadata": {},
   "source": [
    "**Cleaning different Majors by People Participated in the Survey**\n",
    "\n",
    "*People with No Degree or given no answers or type of &#1593 are accumulated under the name *No Degree**"
   ]
  },
  {
   "cell_type": "code",
   "execution_count": 40,
   "metadata": {},
   "outputs": [],
   "source": [
    "def condition(title):\n",
    "    if 'busin' in str(title).lower() or 'manage' in str(title).lower() or 'Buss' in str(title) or 'Bisness' in str(title) or 'Manag' in str(title) or 'buis' in str(title) or 'Entrepreneur' in str(title) or 'entrepr' in str(title).lower() or 'managment' in str(title).lower() or 'Buis' in str(title) or 'Busni' in str(title) or 'Mana' in str(title) or 'buss' in str(title).lower() or 'Bi' in str(title) or 'Mgt' in str(title) or 'MBA' in str(title) or 'Mgmt' in str(title) or 'MD' in str(title):\n",
    "        return 'Business/Management'\n",
    "    elif 'information technology' in str(title).lower() or 'IT' in str(title) or 'it' in str(title):\n",
    "        return 'I.T'\n",
    "    elif 'math' in str(title).lower() or 'LOGISTICS' in str(title) or 'st' in str(title).lower() or 'marh' in str(title).lower() or 'Mate' in str(title):\n",
    "        return 'Mathematics'\n",
    "    elif 'computer' in str(title).lower():\n",
    "        return 'I.T'\n",
    "    elif 'bio' in str(title).lower() or 'Plant' in str(title) or 'plant' in str(title).lower() or 'Micro' in str(title):\n",
    "        return 'Biology'\n",
    "    elif 'tesl' in str(title).lower() or 'TES' in str(title) or 'Teso' in str(title) or 'Enhlish' in str(title):\n",
    "        return 'English'\n",
    "    elif 'account' in str(title).lower() or 'Accoun' in str(title) or 'Acc' in str(title) or 'acc' in str(title).lower() or 'Acouunt' in str(title) or 'Acvount' in str(title) or 'Count' in str(title):\n",
    "        return 'Accountacy'\n",
    "    elif 'CA' in str(title):\n",
    "        return 'CA'\n",
    "    elif 'none' in str(title).lower() or '0' in str(title) or  '_' in str(title) or '.' in str(title) or 'Nine' in str(title) or '19' in str(title):\n",
    "        return 'No Degree'\n",
    "    elif 'nurs' in str(title).lower() or 'BSN' in str(title):\n",
    "        return 'Nursing'\n",
    "    elif '-' in str(title).lower() or 'NIL' in str(title):\n",
    "        return 'No Degree'\n",
    "    elif 'teach' in str(title).lower() or 'Lect' in str(title) or 'eet' in str(title).lower():\n",
    "        return 'Teaching'\n",
    "    elif 'pharma' in str(title).lower() or 'medic' in str(title).lower() or 'med' in str(title).lower() or 'hospi' in str(title).lower() or 'Mwdicine' in str(title) or 'Farmacy' in str(title) or 'Pharacology' in str(title) or 'farmasi' in str(title).lower() or 'Farmasy' in str(title):\n",
    "        return 'Pharmacy/Medical'\n",
    "    elif 'doctor' in str(title).lower() or  'MBBS' in str(title) or 'Mbbs' in str(title) or 'Surge' in str(title) or 'surge' in str(title) or 'mbbs' in str(title).lower()or 'dermat' in str(title).lower() or 'Podiat' in str(title) :\n",
    "        return 'Doctor'\n",
    "    elif 'no' in str(title).lower() or 'Undec' in str(title) or 'Idk' in str(title) or 'idk' in str(title).lower() or 'Hahaha' in str(title) or 'never' in str(title).lower() or 'T' in str(title) or 'Good' in str(title):\n",
    "        return 'No Degree'\n",
    "    elif 'film' in str(title).lower() or 'Cinema' in str(title) or 'fil' in str(title).lower() or 'Adver' in str(title) or 'adver' in str(title) or 'Act' in str(title) or 'Enter' in str(title) or 'digital' in str(title).lower() or 'cinema' in str(title).lower() or 'Video' in str(title) or 'Direct' in str(title) or 'Theat' in str(title) or 'Radio' in str(title) or 'theat' in str(title).lower() or 'drama' in str(title).lower():\n",
    "        return 'Media'\n",
    "    elif 'international' in str(title).lower() or 'Internatianal' in str(title):\n",
    "        return 'International Relations'\n",
    "    elif 'human' in str(title).lower() or 'hr' in str(title).lower() or 'Hs' in str(title) or 'Hm' in str(title) or 'Humam' in str(title):\n",
    "        return 'Human Resources'\n",
    "    elif 'art' in str(title).lower() or 'Painting' in str(title) or 'Drawing' in str(title) or 'ba' in str(title) or 'Printing' in str(title) or 'las' in str(title).lower() or 'Ma' in str(title) or 'paint' in str(title).lower() or 'creative' in str(title).lower() or 'AA' in str(title) or 'BA' in str(title):\n",
    "        return 'Arts'\n",
    "    elif 'islam' in str(title).lower() or 'Muamalat' in str(title) or 'Quran' in str(title) or 'Halal' in str(title) or 'Usul' in str(title) or 'Zakat' in str(title) or 'usul' in str(title).lower():\n",
    "        return 'Islamic Studies'\n",
    "    elif 'physio' in str(title).lower() or 'fis' in str(title).lower():\n",
    "        return 'Physiotherapy'\n",
    "    elif 'socio' in str(title).lower() or 'social' in str(title).lower() or 'soical' in str(title).lower() or 'Sis' in str(title) or 'Sosio' in str(title) or 'Sicio' in str(title) or 'sosiality' in str(title).lower():\n",
    "        return 'Sociology'\n",
    "    elif 'bank' in str(title).lower():\n",
    "        return 'Banking'\n",
    "    elif 'agri' in str(title).lower():\n",
    "        return 'Agriculture'\n",
    "    elif 'Market' in str(title) or 'Finan' in str(title) or 'finance' in str(title).lower() or 'MARKETING' in str(title) or 'market' in str(title).lower() or 'retail' in str(title).lower() or 'CMP' in str(title) or 'Merket' in str(title):\n",
    "        return 'Marketing/Finance'\n",
    "    elif 'counsel' in str(title).lower() or 'cauns' in str(title) or 'Kaunseling' in str(title) or 'kaunseling' in str(title) or 'Caunsel' in str(title):\n",
    "        return 'Counselling'\n",
    "    elif 'programming' in str(title).lower() or 'coding' in str(title).lower() or 'Ibm' in str(title) or 'ceit' in str(title) or 'Hacking' in str(title):\n",
    "        return 'I.T'\n",
    "    elif 'civil' in str(title).lower() or 'comp' in str(title).lower() or 'Mechanical' in str(title) or 'Electrical' in str(title) or 'Mechatronics' in str(title) or 'Eee' in str(title) or 'cs' in str(title).lower() or 'mecha' in str(title) or 'Chemical' in str(title) or 'chemical' in str(title) or 'tech' in str(title) or 'ec' in str(title).lower() or 'egineering' in str(title).lower() or 'manufacturing' in str(title).lower():\n",
    "        return 'Engineering'\n",
    "    elif 'ict' in str(title).lower() or 'developer' in str(title).lower() or 'I.T' in str(title) or 'CAE&D' in str(title) or 'It' in str(title):\n",
    "        return 'I.T'\n",
    "    elif 'commu' in str(title).lower() or 'comm' in str(title).lower() or 'com' in str(title).lower() or 'Conmunication' in str(title):\n",
    "        return 'Communications'\n",
    "    elif 'administration' in str(title).lower() or 'admin' in str(title).lower():\n",
    "        return 'Administration'\n",
    "    elif 'psycho' in str(title).lower() or 'psy' in str(title).lower() or 'Clinical osychology' in str(title) or 'hschology' in str(title) or 'Pysch' in str(title) or 'pys' in str(title).lower() or 'Pych' in str(title) or 'pscy' in str(title) or 'payc' in str(title).lower() or 'Phyc' in str(title) or 'psicologia' in str(title) or 'Phsychology' in str(title) or 'Phichology' in str(title) or 'psuchology' in str(title) or 'Pschology' in str(title) or 'psikologi' in str(title).lower():\n",
    "        return 'Psychology'\n",
    "    elif 'english' in str(title).lower() or 'Elglish' in str(title) or 'esl' in str(title).lower() or 'Emg' in str(title) or 'emglisj' in str(title).lower():\n",
    "        return 'English'\n",
    "    elif 'law' in str(title).lower() or 'BBA' in str(title) or 'llb' in str(title) or 'lew' in str(title).lower() or 'kaw' in str(title).lower() or 'enforcement' in str(title).lower() or 'Kaw' in str(title):\n",
    "        return 'Law'\n",
    "    elif 'engineering' in str(title).lower() or 'engi' in str(title).lower() or 'eng' in str(title).lower() or 'Software' in str(title) or 'soft' in str(title).lower() or 'mechanical' in str(title).lower() or 'Egineeering' in  str(title) or 'electronic' in str(title).lower() or 'CE' in str(title) or 'mech' in str(title).lower() or 'Ciclvil' in str(title) or 'Eggineering' in str(title) or 'Tech' in str(title) or 'Teol' in str(title) or 'EEE' in str(title) or 'PE' in str(title):\n",
    "        return 'Engineering'\n",
    "    elif 'architecture' in str(title).lower() or 'aechitecture' in str(title).lower() or 'archirecture' in str(title).lower() or 'architect' in str(title).lower() or 'Arsitechture' in str(title) or 'Building' in str(title) or 'building' in str(title).lower() or 'Arc' in str(title):\n",
    "        return 'Architecture'\n",
    "    elif 'design' in str(title).lower() or 'Desig' in str(title) or 'Dssign' in str(title):\n",
    "        return 'Designer'\n",
    "    elif 'science' in str(title).lower() or 'Sceince' in str(title) or 'Sci' in str(title) or 'sciene' in str(title) or 'BS' in str(title):\n",
    "        return 'Pure Sciences'\n",
    "    elif 'physics' in str(title).lower() or 'Phsyics' in str(title) or 'EMC' in str(title) or 'Physic' in str(title) or 'physi' in str(title):\n",
    "        return 'Physics'\n",
    "    elif 'chemistry' in str(title).lower() or 'CIS' in str(title) or 'Chem' in str(title):\n",
    "        return 'Chemistry'\n",
    "    elif 'french' in str(title).lower() or 'Fr' in str(title):\n",
    "        return 'French'\n",
    "    elif 'religi' in str(title).lower() or 'Relegion' in str(title) or 'Rel' in str(title) or 'Hukum' in str(title) or 'Sains' in str(title):\n",
    "        return 'Religious Studies'\n",
    "    elif title=='&#1593;&#1604;&#1605; &#1606;&#1601;&#1587;' or title=='&#22810;&#23186;&#39636;&#35373;&#35336;' or title=='nil' or title=='drop out' or title=='&#1055;&#1089;&#1080;&#1093;&#1086;&#1083;&#1' or title=='75' or title=='Secondary education' or title=='Thiê&#769;t kê&#769; &#273;ô&#768; ho&#803;a' or title=='18' or title=='ongoing' or title=='&#28888;&#22521;' or title=='lol' or title=='In college currently' or title=='secondary education' or title=='Dropped out' or title=='na' or title=='didnt attend' or title=='im going on the next year. ' or title=='&#304;lahiyat' or title=='lmfao, im 15' or title=='Elem Ed' or title=='yes' or title=='N/a' or title=='/' or title=='???' or title=='cocaine 101' or title=='doesnt matter' or title== 'oooo' or title=='G' or title=='Yes' or title=='Na' or title=='Na 'or title=='Want sure':\n",
    "        return 'No Degree'\n",
    "    elif 'Music' in str(title) or 'Dance' in str(title) or 'danc' in str(title).lower() or 'Vocational' in str(title) or 'Muisc' in str(title) or 'music' in str(title).lower() or 'Performance' in str(title):\n",
    "        return 'Music/Dance'\n",
    "    elif 'pol' in str(title).lower() or 'Govern' in str(title) or 'Right' in str(title):\n",
    "        return 'Politics'\n",
    "    elif 'photo' in str(title).lower() or 'Foto' in str(title) or 'Photo' in str(title):\n",
    "        return 'Photography'\n",
    "    elif 'Television' in str(title) or 'telev' in str(title).lower():\n",
    "        return 'Television'\n",
    "    elif 'bahasa' in str(title).lower() or 'Bahasa' in str(title) or 'Malay' in str(title) or 'malay' in str(title).lower():\n",
    "        return 'Malaysian languages'\n",
    "    elif 'Urban' in str(title) or 'Town' in str(title) or 'town' in str(title).lower() or 'planning' in str(title) or 'Plann' in str(title) or 'development' in str(title):\n",
    "        return 'Economic Developments'\n",
    "    elif 'Public' in str(title) or 'public' in str(title).lower():\n",
    "        return 'Public Relations'\n",
    "    elif 'Writing' in str(title) or 'writing' in str(title).lower() or 'Screenwritinf' in str(title) or 'Author' in str(title):\n",
    "        return 'Writing/Author'\n",
    "    elif 'philosophy' in str(title).lower() or 'Phil' in str(title) or 'philos' in str(title).lower() or 'Filo' in str(title) or 'Phylosophy' in str(title):\n",
    "        return 'Philosophy'\n",
    "    elif 'Actua' in str(title):\n",
    "        return 'Acturial Studies'\n",
    "    elif 'DENTALWORKS' in str(title) or 'dental' in str(title) or 'Dental' in str(title) or 'Odont' in str(title):\n",
    "        return 'Dentist'\n",
    "    elif 'beaut' in str(title).lower() or 'Fashion' in str(title) or 'make' in str(title) or 'fashion' in str(title).lower() or 'hair' in str(title).lower() or 'cosmet' in str(title).lower():\n",
    "        return 'Fashion'\n",
    "    elif 'Health' in str(title) or 'health' in str(title).lower() or 'wellness' in str(title).lower() or 'Healtcare' in str(title):\n",
    "        return 'Healthcare'\n",
    "    elif 'Language' in str(title) or 'lang' in str(title).lower() or 'Laq' in str(title):\n",
    "        return 'Languages'\n",
    "    elif 'cook' in str(title).lower() or 'bakery' in str(title).lower() or 'Bak' in str(title) or 'CULINARY' in str(title) or 'Food' in str(title) or 'food' in str(title) or 'chef' in str(title).lower() or 'Cul' in str(title) or 'Patiss' in str(title) or 'culi' in str(title).lower():\n",
    "        return 'Cookings'\n",
    "    elif 'Hotel' in str(title) or 'hotel' in str(title).lower() or 'food service' in str(title) or 'cater' in str(title).lower():\n",
    "        return 'Hotel Management'\n",
    "    elif 'therapy' in str(title).lower() or 'ot' in str(title).lower() or 'theraphy' in str(title):\n",
    "        return 'Therapeutical Studies'\n",
    "    elif 'veter' in str(title).lower() or 'Veter' in str(title) or 'Vet' in str(title):\n",
    "        return 'Veterinary'\n",
    "    elif 'Survey' in str(title) or 'survey' in str(title) or 'serveyors' in str(title).lower() or 'Qs' in str(title) or 'SURVEYING' in str(title) or 'QS' in str(title) or 'Surver' in str(title):\n",
    "        return 'Surveyour Studies'\n",
    "    elif 'Aircraft' in str(title) or 'aircraft' in str(title).lower() or 'aircr' in str(title).lower() or 'aviation' in str(title).lower() or 'Aero' in str(title) or 'navigation' in str(title).lower():\n",
    "        return 'Aircrafts'\n",
    "    elif 'environment' in str(title).lower() or 'Environment' in str(title) or 'envi' in str(title).lower():\n",
    "        return 'Environmental Educations'\n",
    "    elif 'Syariah' in str(title) or 'syariah' in str(title):\n",
    "        return 'Syrian Languages'\n",
    "    elif 'judicial' in str(title).lower() or 'juri' in str(title).lower() or 'legal' in str(title).lower():\n",
    "        return 'Judicial Studies'\n",
    "    elif 'Liter' in str(title) or 'literature' in str(title) or 'litt' in str(title).lower():\n",
    "        return 'Literature'\n",
    "    elif 'child' in str(title).lower() or 'Child' in str(title) or 'Preschool' in str(title):\n",
    "        return 'Child Educations'\n",
    "    elif 'Tour' in str(title) or 'tour'  in str(title).lower():\n",
    "        return 'Tourisms'\n",
    "    elif 'Gam' in str(title) or 'game' in str(title).lower():\n",
    "        return 'Gaming'\n",
    "    elif 'education' in str(title).lower() or 'Education' in str(title) or 'ed' in str(title).lower() or 'acad' in str(title) or 'Dploma' in str(title):\n",
    "        return 'B.Ed or M.Ed'\n",
    "    elif 'Sport' in str(title) or 'sport' in str(title).lower():\n",
    "        return 'Sports'\n",
    "    elif 'Petro' in str(title):\n",
    "        return 'Petroleum'\n",
    "    elif 'Journ' in str(title) or 'jour' in str(title).lower() or 'Joun' in str(title) or 'Jurn' in str(title):\n",
    "        return 'Journalism'\n",
    "    elif 'Mandarin' in str(title):\n",
    "        return 'Chinese/Mandarin Languages'\n",
    "    elif 'Electrician' in str(title):\n",
    "        return 'Electrician'\n",
    "    elif 'Network' in str(title) or 'network' in str(title).lower():\n",
    "        return 'Networking'\n",
    "    elif 'geo' in str(title).lower() or 'GEO' in str(title):\n",
    "        return 'Geography'\n",
    "    elif 'Librarian' in str(title) or 'lib' in str(title).lower():\n",
    "        return 'Librarian'\n",
    "    elif 'Mission' in str(title) or 'mission' in str(title).lower():\n",
    "        return 'Missionary Studies'\n",
    "    elif 'Forensic' in str(title) or 'foren' in str(title).lower() or 'Crime' in str(title) or 'crim' in str(title).lower():\n",
    "        return 'Forensic/Criminal studies'\n",
    "    elif 'Animation' in str(title) or 'animation' in str(title).lower() or 'imag' in str(title) or 'graphic' in str(title) or 'Graphic' in str(title):\n",
    "        return 'Animations'\n",
    "    elif 'aqua' in str(title).lower() or 'Aqu' in str(title):\n",
    "        return 'Aquaculture'\n",
    "    elif 'soldier' in str(title).lower() or 'lwa' in str(title).lower() or 'defence' in str(title):\n",
    "        return 'Army'\n",
    "    elif 'Kinesi' in str(title) or 'kines' in str(title).lower() or 'hod' in str(title):\n",
    "        return 'Human Kinetics'\n",
    "    elif 'Horti' in str(title) or 'horti' in str(title) or 'Landscape' in str(title):\n",
    "        return 'Horticulture'\n",
    "    elif 'commerce' in str(title).lower() or 'Coome' in str(title):\n",
    "        return 'Commerce'\n",
    "    elif 'Speech' in str(title) or 'speech' in str(title).lower():\n",
    "        return 'Speech Pathology'\n",
    "    elif 'SECRET' in str(title) or 'secret' in str(title).lower():\n",
    "        return 'Secretary'\n",
    "    elif 'Animals' in str(title) or 'animal' in str(title).lower() or 'Pet' in str(title):\n",
    "        return 'Animal Care'\n",
    "    elif 'Organisation' in str(title) or 'organi' in str(title).lower():\n",
    "        return 'Organizational Behaviour'\n",
    "    elif 'event' in str(title).lower() or 'Event' in str(title):\n",
    "        return 'Event Managment'\n",
    "    elif 'radiology' in str(title).lower() or 'Radiography' in str(title) or 'radiograpghy' in str(title).lower() or 'Radiation' in str(title) or 'radiography' in str(title):\n",
    "        return 'Radiography'\n",
    "    elif 'nutrition' in str(title).lower() or 'Nutrition' in str(title):\n",
    "        return 'Nutritionist'\n",
    "    elif 'Audit' in str(title) or 'audit' in str(title).lower():\n",
    "        return 'Auditing'\n",
    "    elif 'Neuro' in str(title) or 'neuroligy' in str(title).lower():\n",
    "        return 'Neurology'\n",
    "    elif 'Anato' in str(title) or 'anat' in str(title).lower():\n",
    "        return 'Anatomy'\n",
    "    elif 'trade' in str(title).lower():\n",
    "        return 'Trading'\n",
    "    elif 'Interpre' in str(title) or 'translation' in str(title).lower():\n",
    "        return 'Interpreter'\n",
    "    elif 'audio' in str(title).lower() or 'Audio' in str(title):\n",
    "        return 'Audiology'\n",
    "    elif 'insurance' in str(title).lower() or 'Insurance' in str(title):\n",
    "        return 'Insurances'\n",
    "    elif 'archaeology' in str(title).lower() or 'archaeology' in str(title).lower() or 'archeology' in str(title).lower() or 'treasury' in str(title):\n",
    "        return 'Archeology'\n",
    "    elif 'SERV'in str(title) or 'service' in str(title).lower():\n",
    "        return 'Service Training'\n",
    "    elif 'GERMAN' in str(title) or 'german' in str(title).lower():\n",
    "        return 'German'\n",
    "    elif 'KOREAN' in str(title) or 'Korea' in str(title):\n",
    "        return 'Korean'\n",
    "    elif 'valuat' in str(title).lower() or 'valuer' in str(title).lower():\n",
    "        return 'Registered Valuer'\n",
    "    elif 'skil' in str(title).lower() or 'Skill' in str(title) or 'Professional' in str(title) or 'practical' in str(title).lower():\n",
    "        return 'Skilled Labour'\n",
    "    elif 'virology' in str(title):\n",
    "        return 'Virology'\n",
    "    elif 'lab' in str(title).lower() or 'Lab' in str(title) or 'MLT' in str(title):\n",
    "        return 'Laboratory Worker'\n",
    "    elif 'GENERAL' in str(title) or 'General' in str(title):\n",
    "        return 'General'\n",
    "    elif 'Opto' in str(title) or 'opto' in str(title).lower():\n",
    "        return 'Optometry'\n",
    "    elif 'Zoo' in str(title) or 'zoo' in str(title).lower():\n",
    "        return 'Zoology'\n",
    "    elif 'office' in str(title).lower() or 'Office' in str(title):\n",
    "        return 'Office Skills'\n",
    "    elif 'found' in str(title).lower() or 'Found' in str(title):\n",
    "        return 'Foundation Education'\n",
    "    elif 'general' in str(title).lower() or 'General' in str(title):\n",
    "        return 'General Education'\n",
    "    elif 'real estate' in str(title).lower() or 'property' in str(title).lower():\n",
    "        return 'Realtor'\n",
    "    elif 'Meteorology' in str(title) or 'Metrology' in str(title):\n",
    "        return 'Meterology'\n",
    "    elif 'operations' in str(title).lower() or 'Operation' in str(title):\n",
    "        return 'Operational Managment'\n",
    "    elif 'Merchandising' in str(title) or 'merchand' in str(title).lower():\n",
    "        return 'Merchandising'\n",
    "    elif 'Spanish' in str(title):\n",
    "        return 'Spanish'\n",
    "    elif 'Nature' in str(title) or 'natur' in str(title).lower():\n",
    "        return 'Nature Conservation/Resources'\n",
    "    elif title=='a level ' or title==' ':\n",
    "        return 'No Degree'\n",
    "    elif 'Corporate' in str(title) or 'corporate' in str(title).lower():\n",
    "        return 'Corporate'\n",
    "    elif 'greek' in str(title).lower() or 'Greek' in str(title):\n",
    "        return 'Greek'\n",
    "    elif 'Behaviour' in str(title) or 'Behavior' in str(title) or 'Organizational Behaviour' in str(title):\n",
    "        return 'Behaviour Analysis'\n",
    "    elif 'publish' in str(title).lower():\n",
    "        return 'Publishing'\n",
    "    elif 'Safety' in str(title) or 'safety' in str(title).lower():\n",
    "        return 'Safety Training'\n",
    "    elif 'genetic' in str(title).lower() or 'Genetic' in str(title):\n",
    "        return 'Genetics'\n",
    "    elif 'Dietetic' in str(title):\n",
    "        return 'Dietician'\n",
    "    elif 'Production' in str(title) or 'manufacturing' in str(title).lower():\n",
    "        return 'Production And Manufacturing'\n",
    "    elif 'Welding' in str(title):\n",
    "        return 'Welding'\n",
    "    elif 'Geron' in str(title):\n",
    "        return 'Gerontology'\n",
    "    elif 'Research' in str(title) or 'Ph D' in str(title):\n",
    "        return 'Ph.D'\n",
    "    elif 'arabic' in str(title).lower() or 'Arabic' in str(title):\n",
    "        return 'Arabic'\n",
    "\n",
    "    else:\n",
    "        return title\n",
    "\n",
    "data_2['major'] = data_2['major'].apply(condition)"
   ]
  },
  {
   "cell_type": "code",
   "execution_count": 41,
   "metadata": {},
   "outputs": [
    {
     "name": "stdout",
     "output_type": "stream",
     "text": [
      "{'Anatomy', 'Afrikaans', 'Media', 'Cretive Visual', 'Insurances', 'French', 'Petroleum', 'Operational Managment', 'Librarian', 'Languages', 'Economic Developments', 'Meterology', 'Religious Studies', 'Journalism', 'Animal Care', 'Bachelor', 'Audiology', 'Missionary Studies', 'Danish', 'Veterinary', 'Japanese', 'Nursing', 'Builders', 'Pathology', 'Interpreter', 'Museology', 'Trading', 'Information ', 'Realtor', 'Gerontology', 'Cabin Crew', 'Arabic', 'Business/Management', 'Optometry', 'Banking', 'Designer', 'clinical measurement', 'Ophthmalology', 'Sports', 'Chinese', 'Organizational Behaviour', 'Dentist', 'Corrosion ', 'Mining ', 'Administration', 'portuguese', 'Production And Manufacturing', 'Behaviour Analysis', 'Korean', 'Psychology', 'epidemiology', 'Supply chain', 'Singer', 'Neurology', 'Therapeutical Studies', 'Aircrafts', 'Bookkeeping ', 'Forensic/Criminal studies', 'Writing/Author', 'Physiotherapy', 'Office Skills', 'Genetics', 'Counselling', 'Human Kinetics', 'Networking', 'Arts', 'Photography', 'Chargeman', 'Accountacy', 'Foundation Education', 'Islamic Studies', 'Nature Conservation/Resources', 'Pharmacy/Medical', 'Archeology', 'hvac', 'Animations', 'Sociology', 'B.Ed or M.Ed', 'Tourisms', 'Welding', 'Gis', 'College diploma', 'IR', 'Zoology', 'Wildlife resources', 'Safety Training', 'Couselling', 'Kiin', 'General Education', 'Sculpture', 'theology', 'Malaysian languages', 'Law', 'Registered Valuer', 'Hotel Management', 'Surveyour Studies', 'Spanish', 'harvard', 'Music/Dance', 'Commerce', 'Horticulture', 'usa', 'midwivery', 'Engineering', 'Syrian Languages', 'General', 'No Degree', 'International Relations', 'Child Educations', 'Service Training', 'English', 'Environmental Educations', 'Fashion', 'Physics', 'Information', 'Laboratory Worker', 'Palaeontology', 'Ph.D', 'Product Development', 'Philosophy', 'Geography', 'Cookings', 'Event Managment', 'Communications', 'German', 'Chemistry', 'I.T', 'Corporate', 'Dutch', 'Pure Sciences', 'Teaching', 'Doctor', 'Merchandising', 'Radiography', 'Mathematics', 'Greek', 'Publishing', 'Politics', 'Youth Work', 'Crisis intervention', 'Virology', 'Marketing/Finance', 'Architecture', 'Army', 'Agriculture', 'Skilled Labour', 'Gaming', 'Human Resources', 'Judicial Studies', 'CA', 'Aquaculture', 'Leadership', 'Russian philology', 'Dietician', 'maintenance', 'Public Relations', 'Biology', 'Healthcare'}\n"
     ]
    }
   ],
   "source": [
    "lis=[]\n",
    "for x in data_2['major']:\n",
    "    lis.append(x)\n",
    "print(set(lis))"
   ]
  },
  {
   "cell_type": "code",
   "execution_count": 42,
   "metadata": {},
   "outputs": [],
   "source": [
    "data_2=data_2.replace([np.inf, -np.inf], np.nan)\n",
    "data_2=data_2.dropna()"
   ]
  },
  {
   "cell_type": "code",
   "execution_count": 43,
   "metadata": {},
   "outputs": [
    {
     "data": {
      "text/plain": [
       "Text(0.5, 1.0, 'Top 20 Majors of people participated in the Survey')"
      ]
     },
     "execution_count": 43,
     "metadata": {},
     "output_type": "execute_result"
    },
    {
     "data": {
      "image/png": "[encoded data removed]",
      "text/plain": [
       "<Figure size 720x360 with 1 Axes>"
      ]
     },
     "metadata": {
      "needs_background": "light"
     },
     "output_type": "display_data"
    }
   ],
   "source": [
    "plt.figure(figsize=(10,5))\n",
    "data_2['major'].value_counts()[:20].plot(kind='barh',color='green')\n",
    "plt.ylabel('Majors')\n",
    "plt.xlabel('Count')\n",
    "plt.title('Top 20 Majors of people participated in the Survey')"
   ]
  },
  {
   "cell_type": "code",
   "execution_count": 44,
   "metadata": {},
   "outputs": [
    {
     "data": {
      "text/plain": [
       "Text(0.5, 1.0, 'Top 20 Countries from where people participated in the Survey')"
      ]
     },
     "execution_count": 44,
     "metadata": {},
     "output_type": "execute_result"
    },
    {
     "data": {
      "image/png": "[encoded data removed]",
      "text/plain": [
       "<Figure size 720x432 with 1 Axes>"
      ]
     },
     "metadata": {
      "needs_background": "light"
     },
     "output_type": "display_data"
    }
   ],
   "source": [
    "plt.figure(figsize=(10,6))\n",
    "data_2['country'].value_counts()[:20].plot(kind='barh',color='pink')\n",
    "plt.ylabel('Country Initials')\n",
    "plt.xlabel('Count')\n",
    "plt.title('Top 20 Countries from where people participated in the Survey')"
   ]
  },
  {
   "cell_type": "code",
   "execution_count": 45,
   "metadata": {},
   "outputs": [
    {
     "data": {
      "text/html": [
       "<div>\n",
       "<style scoped>\n",
       "    .dataframe tbody tr th:only-of-type {\n",
       "        vertical-align: middle;\n",
       "    }\n",
       "\n",
       "    .dataframe tbody tr th {\n",
       "        vertical-align: top;\n",
       "    }\n",
       "\n",
       "    .dataframe thead th {\n",
       "        text-align: right;\n",
       "    }\n",
       "</style>\n",
       "<table border=\"1\" class=\"dataframe\">\n",
       "  <thead>\n",
       "    <tr style=\"text-align: right;\">\n",
       "      <th></th>\n",
       "      <th>Q1A</th>\n",
       "      <th>Q2A</th>\n",
       "      <th>Q3A</th>\n",
       "      <th>Q4A</th>\n",
       "      <th>Q5A</th>\n",
       "      <th>Q6A</th>\n",
       "      <th>Q7A</th>\n",
       "      <th>Q8A</th>\n",
       "      <th>Q9A</th>\n",
       "      <th>Q10A</th>\n",
       "      <th>...</th>\n",
       "      <th>uniquenetworklocation</th>\n",
       "      <th>hand</th>\n",
       "      <th>religion</th>\n",
       "      <th>orientation</th>\n",
       "      <th>race</th>\n",
       "      <th>voted</th>\n",
       "      <th>married</th>\n",
       "      <th>familysize</th>\n",
       "      <th>major</th>\n",
       "      <th>Age_Groups</th>\n",
       "    </tr>\n",
       "  </thead>\n",
       "  <tbody>\n",
       "    <tr>\n",
       "      <th>0</th>\n",
       "      <td>4</td>\n",
       "      <td>4</td>\n",
       "      <td>2</td>\n",
       "      <td>4</td>\n",
       "      <td>4</td>\n",
       "      <td>4</td>\n",
       "      <td>4</td>\n",
       "      <td>4</td>\n",
       "      <td>2</td>\n",
       "      <td>1</td>\n",
       "      <td>...</td>\n",
       "      <td>1</td>\n",
       "      <td>1</td>\n",
       "      <td>12</td>\n",
       "      <td>1</td>\n",
       "      <td>10</td>\n",
       "      <td>2</td>\n",
       "      <td>1</td>\n",
       "      <td>2</td>\n",
       "      <td>No Degree</td>\n",
       "      <td>Primary Children</td>\n",
       "    </tr>\n",
       "    <tr>\n",
       "      <th>1</th>\n",
       "      <td>4</td>\n",
       "      <td>1</td>\n",
       "      <td>2</td>\n",
       "      <td>3</td>\n",
       "      <td>4</td>\n",
       "      <td>4</td>\n",
       "      <td>3</td>\n",
       "      <td>4</td>\n",
       "      <td>3</td>\n",
       "      <td>2</td>\n",
       "      <td>...</td>\n",
       "      <td>1</td>\n",
       "      <td>2</td>\n",
       "      <td>7</td>\n",
       "      <td>3</td>\n",
       "      <td>70</td>\n",
       "      <td>2</td>\n",
       "      <td>1</td>\n",
       "      <td>4</td>\n",
       "      <td>No Degree</td>\n",
       "      <td>Primary Children</td>\n",
       "    </tr>\n",
       "    <tr>\n",
       "      <th>2</th>\n",
       "      <td>3</td>\n",
       "      <td>1</td>\n",
       "      <td>4</td>\n",
       "      <td>1</td>\n",
       "      <td>4</td>\n",
       "      <td>3</td>\n",
       "      <td>1</td>\n",
       "      <td>3</td>\n",
       "      <td>2</td>\n",
       "      <td>4</td>\n",
       "      <td>...</td>\n",
       "      <td>1</td>\n",
       "      <td>1</td>\n",
       "      <td>4</td>\n",
       "      <td>3</td>\n",
       "      <td>60</td>\n",
       "      <td>1</td>\n",
       "      <td>1</td>\n",
       "      <td>3</td>\n",
       "      <td>No Degree</td>\n",
       "      <td>Secondary Children</td>\n",
       "    </tr>\n",
       "    <tr>\n",
       "      <th>3</th>\n",
       "      <td>2</td>\n",
       "      <td>3</td>\n",
       "      <td>2</td>\n",
       "      <td>1</td>\n",
       "      <td>3</td>\n",
       "      <td>3</td>\n",
       "      <td>4</td>\n",
       "      <td>2</td>\n",
       "      <td>3</td>\n",
       "      <td>3</td>\n",
       "      <td>...</td>\n",
       "      <td>1</td>\n",
       "      <td>2</td>\n",
       "      <td>4</td>\n",
       "      <td>5</td>\n",
       "      <td>70</td>\n",
       "      <td>2</td>\n",
       "      <td>1</td>\n",
       "      <td>5</td>\n",
       "      <td>Biology</td>\n",
       "      <td>Primary Children</td>\n",
       "    </tr>\n",
       "    <tr>\n",
       "      <th>4</th>\n",
       "      <td>2</td>\n",
       "      <td>2</td>\n",
       "      <td>3</td>\n",
       "      <td>4</td>\n",
       "      <td>4</td>\n",
       "      <td>2</td>\n",
       "      <td>4</td>\n",
       "      <td>4</td>\n",
       "      <td>4</td>\n",
       "      <td>3</td>\n",
       "      <td>...</td>\n",
       "      <td>2</td>\n",
       "      <td>3</td>\n",
       "      <td>10</td>\n",
       "      <td>1</td>\n",
       "      <td>10</td>\n",
       "      <td>2</td>\n",
       "      <td>1</td>\n",
       "      <td>4</td>\n",
       "      <td>Psychology</td>\n",
       "      <td>Secondary Children</td>\n",
       "    </tr>\n",
       "  </tbody>\n",
       "</table>\n",
       "<p>5 rows × 69 columns</p>\n",
       "</div>"
      ],
      "text/plain": [
       "   Q1A  Q2A  Q3A  Q4A  Q5A  Q6A  Q7A  Q8A  Q9A  Q10A  ...  \\\n",
       "0    4    4    2    4    4    4    4    4    2     1  ...   \n",
       "1    4    1    2    3    4    4    3    4    3     2  ...   \n",
       "2    3    1    4    1    4    3    1    3    2     4  ...   \n",
       "3    2    3    2    1    3    3    4    2    3     3  ...   \n",
       "4    2    2    3    4    4    2    4    4    4     3  ...   \n",
       "\n",
       "   uniquenetworklocation  hand  religion  orientation  race  voted  married  \\\n",
       "0                      1     1        12            1    10      2        1   \n",
       "1                      1     2         7            3    70      2        1   \n",
       "2                      1     1         4            3    60      1        1   \n",
       "3                      1     2         4            5    70      2        1   \n",
       "4                      2     3        10            1    10      2        1   \n",
       "\n",
       "   familysize       major          Age_Groups  \n",
       "0           2   No Degree    Primary Children  \n",
       "1           4   No Degree    Primary Children  \n",
       "2           3   No Degree  Secondary Children  \n",
       "3           5     Biology    Primary Children  \n",
       "4           4  Psychology  Secondary Children  \n",
       "\n",
       "[5 rows x 69 columns]"
      ]
     },
     "execution_count": 45,
     "metadata": {},
     "output_type": "execute_result"
    }
   ],
   "source": [
    "def condition(x):\n",
    "    if x<=10:\n",
    "        return 'Under 10'\n",
    "    if  10<=x<=16:\n",
    "        return ' Primary Children'\n",
    "    if 17<=x<=21:\n",
    "        return 'Secondary Children'\n",
    "    if 21<=x<=35:\n",
    "        return 'Adults'\n",
    "    if 36<=x<=48:\n",
    "        return 'Elder Adults'\n",
    "    if x>=49:\n",
    "        return 'Older People'\n",
    "\n",
    "data_2['Age_Groups']=data_2['age'].apply(condition)\n",
    "data_2.head()"
   ]
  },
  {
   "cell_type": "code",
   "execution_count": 46,
   "metadata": {},
   "outputs": [
    {
     "data": {
      "text/html": [
       "<div>\n",
       "<style scoped>\n",
       "    .dataframe tbody tr th:only-of-type {\n",
       "        vertical-align: middle;\n",
       "    }\n",
       "\n",
       "    .dataframe tbody tr th {\n",
       "        vertical-align: top;\n",
       "    }\n",
       "\n",
       "    .dataframe thead th {\n",
       "        text-align: right;\n",
       "    }\n",
       "</style>\n",
       "<table border=\"1\" class=\"dataframe\">\n",
       "  <thead>\n",
       "    <tr style=\"text-align: right;\">\n",
       "      <th></th>\n",
       "      <th>Q1A</th>\n",
       "      <th>Q2A</th>\n",
       "      <th>Q3A</th>\n",
       "      <th>Q4A</th>\n",
       "      <th>Q5A</th>\n",
       "      <th>Q6A</th>\n",
       "      <th>Q7A</th>\n",
       "      <th>Q8A</th>\n",
       "      <th>Q9A</th>\n",
       "      <th>Q10A</th>\n",
       "      <th>...</th>\n",
       "      <th>Q33A</th>\n",
       "      <th>Q34A</th>\n",
       "      <th>Q35A</th>\n",
       "      <th>Q36A</th>\n",
       "      <th>Q37A</th>\n",
       "      <th>Q38A</th>\n",
       "      <th>Q39A</th>\n",
       "      <th>Q40A</th>\n",
       "      <th>Q41A</th>\n",
       "      <th>Q42A</th>\n",
       "    </tr>\n",
       "  </thead>\n",
       "  <tbody>\n",
       "    <tr>\n",
       "      <th>0</th>\n",
       "      <td>4</td>\n",
       "      <td>4</td>\n",
       "      <td>2</td>\n",
       "      <td>4</td>\n",
       "      <td>4</td>\n",
       "      <td>4</td>\n",
       "      <td>4</td>\n",
       "      <td>4</td>\n",
       "      <td>2</td>\n",
       "      <td>1</td>\n",
       "      <td>...</td>\n",
       "      <td>2</td>\n",
       "      <td>3</td>\n",
       "      <td>4</td>\n",
       "      <td>4</td>\n",
       "      <td>1</td>\n",
       "      <td>2</td>\n",
       "      <td>4</td>\n",
       "      <td>3</td>\n",
       "      <td>4</td>\n",
       "      <td>4</td>\n",
       "    </tr>\n",
       "    <tr>\n",
       "      <th>1</th>\n",
       "      <td>4</td>\n",
       "      <td>1</td>\n",
       "      <td>2</td>\n",
       "      <td>3</td>\n",
       "      <td>4</td>\n",
       "      <td>4</td>\n",
       "      <td>3</td>\n",
       "      <td>4</td>\n",
       "      <td>3</td>\n",
       "      <td>2</td>\n",
       "      <td>...</td>\n",
       "      <td>3</td>\n",
       "      <td>2</td>\n",
       "      <td>2</td>\n",
       "      <td>3</td>\n",
       "      <td>4</td>\n",
       "      <td>2</td>\n",
       "      <td>2</td>\n",
       "      <td>1</td>\n",
       "      <td>2</td>\n",
       "      <td>2</td>\n",
       "    </tr>\n",
       "    <tr>\n",
       "      <th>2</th>\n",
       "      <td>3</td>\n",
       "      <td>1</td>\n",
       "      <td>4</td>\n",
       "      <td>1</td>\n",
       "      <td>4</td>\n",
       "      <td>3</td>\n",
       "      <td>1</td>\n",
       "      <td>3</td>\n",
       "      <td>2</td>\n",
       "      <td>4</td>\n",
       "      <td>...</td>\n",
       "      <td>1</td>\n",
       "      <td>4</td>\n",
       "      <td>3</td>\n",
       "      <td>4</td>\n",
       "      <td>4</td>\n",
       "      <td>4</td>\n",
       "      <td>2</td>\n",
       "      <td>2</td>\n",
       "      <td>1</td>\n",
       "      <td>4</td>\n",
       "    </tr>\n",
       "    <tr>\n",
       "      <th>3</th>\n",
       "      <td>2</td>\n",
       "      <td>3</td>\n",
       "      <td>2</td>\n",
       "      <td>1</td>\n",
       "      <td>3</td>\n",
       "      <td>3</td>\n",
       "      <td>4</td>\n",
       "      <td>2</td>\n",
       "      <td>3</td>\n",
       "      <td>3</td>\n",
       "      <td>...</td>\n",
       "      <td>2</td>\n",
       "      <td>4</td>\n",
       "      <td>1</td>\n",
       "      <td>1</td>\n",
       "      <td>2</td>\n",
       "      <td>1</td>\n",
       "      <td>3</td>\n",
       "      <td>4</td>\n",
       "      <td>4</td>\n",
       "      <td>2</td>\n",
       "    </tr>\n",
       "    <tr>\n",
       "      <th>4</th>\n",
       "      <td>2</td>\n",
       "      <td>2</td>\n",
       "      <td>3</td>\n",
       "      <td>4</td>\n",
       "      <td>4</td>\n",
       "      <td>2</td>\n",
       "      <td>4</td>\n",
       "      <td>4</td>\n",
       "      <td>4</td>\n",
       "      <td>3</td>\n",
       "      <td>...</td>\n",
       "      <td>4</td>\n",
       "      <td>4</td>\n",
       "      <td>3</td>\n",
       "      <td>4</td>\n",
       "      <td>3</td>\n",
       "      <td>3</td>\n",
       "      <td>3</td>\n",
       "      <td>4</td>\n",
       "      <td>4</td>\n",
       "      <td>3</td>\n",
       "    </tr>\n",
       "  </tbody>\n",
       "</table>\n",
       "<p>5 rows × 42 columns</p>\n",
       "</div>"
      ],
      "text/plain": [
       "   Q1A  Q2A  Q3A  Q4A  Q5A  Q6A  Q7A  Q8A  Q9A  Q10A  ...  Q33A  Q34A  Q35A  \\\n",
       "0    4    4    2    4    4    4    4    4    2     1  ...     2     3     4   \n",
       "1    4    1    2    3    4    4    3    4    3     2  ...     3     2     2   \n",
       "2    3    1    4    1    4    3    1    3    2     4  ...     1     4     3   \n",
       "3    2    3    2    1    3    3    4    2    3     3  ...     2     4     1   \n",
       "4    2    2    3    4    4    2    4    4    4     3  ...     4     4     3   \n",
       "\n",
       "   Q36A  Q37A  Q38A  Q39A  Q40A  Q41A  Q42A  \n",
       "0     4     1     2     4     3     4     4  \n",
       "1     3     4     2     2     1     2     2  \n",
       "2     4     4     4     2     2     1     4  \n",
       "3     1     2     1     3     4     4     2  \n",
       "4     4     3     3     3     4     4     3  \n",
       "\n",
       "[5 rows x 42 columns]"
      ]
     },
     "execution_count": 46,
     "metadata": {},
     "output_type": "execute_result"
    }
   ],
   "source": [
    "new_data=data_2.iloc[:,42:]\n",
    "data_3=data_2.filter(regex='Q\\d{1,2}A')\n",
    "data_3.head()"
   ]
  },
  {
   "cell_type": "code",
   "execution_count": 47,
   "metadata": {},
   "outputs": [],
   "source": [
    "def sub(data_3):\n",
    "    return data_3.subtract(1,axis=1)\n",
    "data_3=sub(data_3) \n",
    "DASS_keys = {'Depression': [3, 5, 10, 13, 16, 17, 21, 24, 26, 31, 34, 37, 38, 42]}\n",
    "Dep = []\n",
    "for i in DASS_keys[\"Depression\"]:\n",
    "    Dep.append('Q'+str(i)+'A')\n",
    "depression= data_3.filter(Dep)\n",
    "\n"
   ]
  },
  {
   "cell_type": "markdown",
   "metadata": {},
   "source": [
    "**Scoring as per given answers for the respective set of Depression,Anxiety,Stress questions**"
   ]
  },
  {
   "cell_type": "code",
   "execution_count": 48,
   "metadata": {},
   "outputs": [],
   "source": [
    "def scores(source):\n",
    "    col=list(source)\n",
    "    source['Total_Count']=source[col].sum(axis=1)\n",
    "    return source\n",
    "depression=scores(depression)"
   ]
  },
  {
   "cell_type": "markdown",
   "metadata": {},
   "source": [
    "**After scoring is done combining these three sets back with the the rest of the table**\n",
    "\n",
    "**Therefore now have 3 dataframes to work with as of Depression,Anxiety,Stress**"
   ]
  },
  {
   "cell_type": "markdown",
   "metadata": {},
   "source": [
    " # Depression Set"
   ]
  },
  {
   "cell_type": "code",
   "execution_count": 49,
   "metadata": {},
   "outputs": [
    {
     "data": {
      "text/html": [
       "<div>\n",
       "<style scoped>\n",
       "    .dataframe tbody tr th:only-of-type {\n",
       "        vertical-align: middle;\n",
       "    }\n",
       "\n",
       "    .dataframe tbody tr th {\n",
       "        vertical-align: top;\n",
       "    }\n",
       "\n",
       "    .dataframe thead th {\n",
       "        text-align: right;\n",
       "    }\n",
       "</style>\n",
       "<table border=\"1\" class=\"dataframe\">\n",
       "  <thead>\n",
       "    <tr style=\"text-align: right;\">\n",
       "      <th></th>\n",
       "      <th>Q3A</th>\n",
       "      <th>Q5A</th>\n",
       "      <th>Q10A</th>\n",
       "      <th>Q13A</th>\n",
       "      <th>Q16A</th>\n",
       "      <th>Q17A</th>\n",
       "      <th>Q21A</th>\n",
       "      <th>Q24A</th>\n",
       "      <th>Q26A</th>\n",
       "      <th>Q31A</th>\n",
       "      <th>Q34A</th>\n",
       "      <th>Q37A</th>\n",
       "      <th>Q38A</th>\n",
       "      <th>Q42A</th>\n",
       "      <th>Total_Count</th>\n",
       "    </tr>\n",
       "  </thead>\n",
       "  <tbody>\n",
       "    <tr>\n",
       "      <th>0</th>\n",
       "      <td>1</td>\n",
       "      <td>3</td>\n",
       "      <td>0</td>\n",
       "      <td>3</td>\n",
       "      <td>3</td>\n",
       "      <td>2</td>\n",
       "      <td>0</td>\n",
       "      <td>3</td>\n",
       "      <td>3</td>\n",
       "      <td>3</td>\n",
       "      <td>2</td>\n",
       "      <td>0</td>\n",
       "      <td>1</td>\n",
       "      <td>3</td>\n",
       "      <td>27</td>\n",
       "    </tr>\n",
       "    <tr>\n",
       "      <th>1</th>\n",
       "      <td>1</td>\n",
       "      <td>3</td>\n",
       "      <td>1</td>\n",
       "      <td>3</td>\n",
       "      <td>2</td>\n",
       "      <td>3</td>\n",
       "      <td>1</td>\n",
       "      <td>1</td>\n",
       "      <td>2</td>\n",
       "      <td>1</td>\n",
       "      <td>1</td>\n",
       "      <td>3</td>\n",
       "      <td>1</td>\n",
       "      <td>1</td>\n",
       "      <td>24</td>\n",
       "    </tr>\n",
       "    <tr>\n",
       "      <th>2</th>\n",
       "      <td>3</td>\n",
       "      <td>3</td>\n",
       "      <td>3</td>\n",
       "      <td>3</td>\n",
       "      <td>3</td>\n",
       "      <td>3</td>\n",
       "      <td>3</td>\n",
       "      <td>3</td>\n",
       "      <td>0</td>\n",
       "      <td>3</td>\n",
       "      <td>3</td>\n",
       "      <td>3</td>\n",
       "      <td>3</td>\n",
       "      <td>3</td>\n",
       "      <td>39</td>\n",
       "    </tr>\n",
       "    <tr>\n",
       "      <th>3</th>\n",
       "      <td>1</td>\n",
       "      <td>2</td>\n",
       "      <td>2</td>\n",
       "      <td>0</td>\n",
       "      <td>1</td>\n",
       "      <td>2</td>\n",
       "      <td>0</td>\n",
       "      <td>0</td>\n",
       "      <td>1</td>\n",
       "      <td>2</td>\n",
       "      <td>3</td>\n",
       "      <td>1</td>\n",
       "      <td>0</td>\n",
       "      <td>1</td>\n",
       "      <td>16</td>\n",
       "    </tr>\n",
       "    <tr>\n",
       "      <th>4</th>\n",
       "      <td>2</td>\n",
       "      <td>3</td>\n",
       "      <td>2</td>\n",
       "      <td>3</td>\n",
       "      <td>2</td>\n",
       "      <td>3</td>\n",
       "      <td>2</td>\n",
       "      <td>1</td>\n",
       "      <td>3</td>\n",
       "      <td>2</td>\n",
       "      <td>3</td>\n",
       "      <td>2</td>\n",
       "      <td>2</td>\n",
       "      <td>2</td>\n",
       "      <td>32</td>\n",
       "    </tr>\n",
       "  </tbody>\n",
       "</table>\n",
       "</div>"
      ],
      "text/plain": [
       "   Q3A  Q5A  Q10A  Q13A  Q16A  Q17A  Q21A  Q24A  Q26A  Q31A  Q34A  Q37A  Q38A  \\\n",
       "0    1    3     0     3     3     2     0     3     3     3     2     0     1   \n",
       "1    1    3     1     3     2     3     1     1     2     1     1     3     1   \n",
       "2    3    3     3     3     3     3     3     3     0     3     3     3     3   \n",
       "3    1    2     2     0     1     2     0     0     1     2     3     1     0   \n",
       "4    2    3     2     3     2     3     2     1     3     2     3     2     2   \n",
       "\n",
       "   Q42A  Total_Count  \n",
       "0     3           27  \n",
       "1     1           24  \n",
       "2     3           39  \n",
       "3     1           16  \n",
       "4     2           32  "
      ]
     },
     "execution_count": 49,
     "metadata": {},
     "output_type": "execute_result"
    }
   ],
   "source": [
    "depression.head()"
   ]
  },
  {
   "cell_type": "code",
   "execution_count": 50,
   "metadata": {},
   "outputs": [
    {
     "data": {
      "text/html": [
       "<div>\n",
       "<style scoped>\n",
       "    .dataframe tbody tr th:only-of-type {\n",
       "        vertical-align: middle;\n",
       "    }\n",
       "\n",
       "    .dataframe tbody tr th {\n",
       "        vertical-align: top;\n",
       "    }\n",
       "\n",
       "    .dataframe thead th {\n",
       "        text-align: right;\n",
       "    }\n",
       "</style>\n",
       "<table border=\"1\" class=\"dataframe\">\n",
       "  <thead>\n",
       "    <tr style=\"text-align: right;\">\n",
       "      <th></th>\n",
       "      <th>Q3A</th>\n",
       "      <th>Q5A</th>\n",
       "      <th>Q10A</th>\n",
       "      <th>Q13A</th>\n",
       "      <th>Q16A</th>\n",
       "      <th>Q17A</th>\n",
       "      <th>Q21A</th>\n",
       "      <th>Q24A</th>\n",
       "      <th>Q26A</th>\n",
       "      <th>Q31A</th>\n",
       "      <th>...</th>\n",
       "      <th>uniquenetworklocation</th>\n",
       "      <th>hand</th>\n",
       "      <th>religion</th>\n",
       "      <th>orientation</th>\n",
       "      <th>race</th>\n",
       "      <th>voted</th>\n",
       "      <th>married</th>\n",
       "      <th>familysize</th>\n",
       "      <th>major</th>\n",
       "      <th>Age_Groups</th>\n",
       "    </tr>\n",
       "  </thead>\n",
       "  <tbody>\n",
       "    <tr>\n",
       "      <th>0</th>\n",
       "      <td>1</td>\n",
       "      <td>3</td>\n",
       "      <td>0</td>\n",
       "      <td>3</td>\n",
       "      <td>3</td>\n",
       "      <td>2</td>\n",
       "      <td>0</td>\n",
       "      <td>3</td>\n",
       "      <td>3</td>\n",
       "      <td>3</td>\n",
       "      <td>...</td>\n",
       "      <td>1</td>\n",
       "      <td>1</td>\n",
       "      <td>12</td>\n",
       "      <td>1</td>\n",
       "      <td>10</td>\n",
       "      <td>2</td>\n",
       "      <td>1</td>\n",
       "      <td>2</td>\n",
       "      <td>No Degree</td>\n",
       "      <td>Primary Children</td>\n",
       "    </tr>\n",
       "    <tr>\n",
       "      <th>1</th>\n",
       "      <td>1</td>\n",
       "      <td>3</td>\n",
       "      <td>1</td>\n",
       "      <td>3</td>\n",
       "      <td>2</td>\n",
       "      <td>3</td>\n",
       "      <td>1</td>\n",
       "      <td>1</td>\n",
       "      <td>2</td>\n",
       "      <td>1</td>\n",
       "      <td>...</td>\n",
       "      <td>1</td>\n",
       "      <td>2</td>\n",
       "      <td>7</td>\n",
       "      <td>3</td>\n",
       "      <td>70</td>\n",
       "      <td>2</td>\n",
       "      <td>1</td>\n",
       "      <td>4</td>\n",
       "      <td>No Degree</td>\n",
       "      <td>Primary Children</td>\n",
       "    </tr>\n",
       "    <tr>\n",
       "      <th>2</th>\n",
       "      <td>3</td>\n",
       "      <td>3</td>\n",
       "      <td>3</td>\n",
       "      <td>3</td>\n",
       "      <td>3</td>\n",
       "      <td>3</td>\n",
       "      <td>3</td>\n",
       "      <td>3</td>\n",
       "      <td>0</td>\n",
       "      <td>3</td>\n",
       "      <td>...</td>\n",
       "      <td>1</td>\n",
       "      <td>1</td>\n",
       "      <td>4</td>\n",
       "      <td>3</td>\n",
       "      <td>60</td>\n",
       "      <td>1</td>\n",
       "      <td>1</td>\n",
       "      <td>3</td>\n",
       "      <td>No Degree</td>\n",
       "      <td>Secondary Children</td>\n",
       "    </tr>\n",
       "    <tr>\n",
       "      <th>3</th>\n",
       "      <td>1</td>\n",
       "      <td>2</td>\n",
       "      <td>2</td>\n",
       "      <td>0</td>\n",
       "      <td>1</td>\n",
       "      <td>2</td>\n",
       "      <td>0</td>\n",
       "      <td>0</td>\n",
       "      <td>1</td>\n",
       "      <td>2</td>\n",
       "      <td>...</td>\n",
       "      <td>1</td>\n",
       "      <td>2</td>\n",
       "      <td>4</td>\n",
       "      <td>5</td>\n",
       "      <td>70</td>\n",
       "      <td>2</td>\n",
       "      <td>1</td>\n",
       "      <td>5</td>\n",
       "      <td>Biology</td>\n",
       "      <td>Primary Children</td>\n",
       "    </tr>\n",
       "    <tr>\n",
       "      <th>4</th>\n",
       "      <td>2</td>\n",
       "      <td>3</td>\n",
       "      <td>2</td>\n",
       "      <td>3</td>\n",
       "      <td>2</td>\n",
       "      <td>3</td>\n",
       "      <td>2</td>\n",
       "      <td>1</td>\n",
       "      <td>3</td>\n",
       "      <td>2</td>\n",
       "      <td>...</td>\n",
       "      <td>2</td>\n",
       "      <td>3</td>\n",
       "      <td>10</td>\n",
       "      <td>1</td>\n",
       "      <td>10</td>\n",
       "      <td>2</td>\n",
       "      <td>1</td>\n",
       "      <td>4</td>\n",
       "      <td>Psychology</td>\n",
       "      <td>Secondary Children</td>\n",
       "    </tr>\n",
       "  </tbody>\n",
       "</table>\n",
       "<p>5 rows × 42 columns</p>\n",
       "</div>"
      ],
      "text/plain": [
       "   Q3A  Q5A  Q10A  Q13A  Q16A  Q17A  Q21A  Q24A  Q26A  Q31A  ...  \\\n",
       "0    1    3     0     3     3     2     0     3     3     3  ...   \n",
       "1    1    3     1     3     2     3     1     1     2     1  ...   \n",
       "2    3    3     3     3     3     3     3     3     0     3  ...   \n",
       "3    1    2     2     0     1     2     0     0     1     2  ...   \n",
       "4    2    3     2     3     2     3     2     1     3     2  ...   \n",
       "\n",
       "   uniquenetworklocation  hand  religion  orientation  race voted  married  \\\n",
       "0                      1     1        12            1    10     2        1   \n",
       "1                      1     2         7            3    70     2        1   \n",
       "2                      1     1         4            3    60     1        1   \n",
       "3                      1     2         4            5    70     2        1   \n",
       "4                      2     3        10            1    10     2        1   \n",
       "\n",
       "   familysize       major          Age_Groups  \n",
       "0           2   No Degree    Primary Children  \n",
       "1           4   No Degree    Primary Children  \n",
       "2           3   No Degree  Secondary Children  \n",
       "3           5     Biology    Primary Children  \n",
       "4           4  Psychology  Secondary Children  \n",
       "\n",
       "[5 rows x 42 columns]"
      ]
     },
     "execution_count": 50,
     "metadata": {},
     "output_type": "execute_result"
    }
   ],
   "source": [
    "Depression=pd.merge(depression,new_data,how='left',left_index=True,right_index=True)\n",
    "Depression.head()"
   ]
  },
  {
   "cell_type": "code",
   "execution_count": 51,
   "metadata": {},
   "outputs": [
    {
     "data": {
      "text/html": [
       "<div>\n",
       "<style scoped>\n",
       "    .dataframe tbody tr th:only-of-type {\n",
       "        vertical-align: middle;\n",
       "    }\n",
       "\n",
       "    .dataframe tbody tr th {\n",
       "        vertical-align: top;\n",
       "    }\n",
       "\n",
       "    .dataframe thead th {\n",
       "        text-align: right;\n",
       "    }\n",
       "</style>\n",
       "<table border=\"1\" class=\"dataframe\">\n",
       "  <thead>\n",
       "    <tr style=\"text-align: right;\">\n",
       "      <th></th>\n",
       "      <th>Q3A</th>\n",
       "      <th>Q5A</th>\n",
       "      <th>Q10A</th>\n",
       "      <th>Q13A</th>\n",
       "      <th>Q16A</th>\n",
       "      <th>Q17A</th>\n",
       "      <th>Q21A</th>\n",
       "      <th>Q24A</th>\n",
       "      <th>Q26A</th>\n",
       "      <th>Q31A</th>\n",
       "      <th>...</th>\n",
       "      <th>hand</th>\n",
       "      <th>religion</th>\n",
       "      <th>orientation</th>\n",
       "      <th>race</th>\n",
       "      <th>voted</th>\n",
       "      <th>married</th>\n",
       "      <th>familysize</th>\n",
       "      <th>major</th>\n",
       "      <th>Age_Groups</th>\n",
       "      <th>Condition</th>\n",
       "    </tr>\n",
       "  </thead>\n",
       "  <tbody>\n",
       "    <tr>\n",
       "      <th>0</th>\n",
       "      <td>1</td>\n",
       "      <td>3</td>\n",
       "      <td>0</td>\n",
       "      <td>3</td>\n",
       "      <td>3</td>\n",
       "      <td>2</td>\n",
       "      <td>0</td>\n",
       "      <td>3</td>\n",
       "      <td>3</td>\n",
       "      <td>3</td>\n",
       "      <td>...</td>\n",
       "      <td>1</td>\n",
       "      <td>12</td>\n",
       "      <td>1</td>\n",
       "      <td>10</td>\n",
       "      <td>2</td>\n",
       "      <td>1</td>\n",
       "      <td>2</td>\n",
       "      <td>No Degree</td>\n",
       "      <td>Primary Children</td>\n",
       "      <td>Severe</td>\n",
       "    </tr>\n",
       "    <tr>\n",
       "      <th>1</th>\n",
       "      <td>1</td>\n",
       "      <td>3</td>\n",
       "      <td>1</td>\n",
       "      <td>3</td>\n",
       "      <td>2</td>\n",
       "      <td>3</td>\n",
       "      <td>1</td>\n",
       "      <td>1</td>\n",
       "      <td>2</td>\n",
       "      <td>1</td>\n",
       "      <td>...</td>\n",
       "      <td>2</td>\n",
       "      <td>7</td>\n",
       "      <td>3</td>\n",
       "      <td>70</td>\n",
       "      <td>2</td>\n",
       "      <td>1</td>\n",
       "      <td>4</td>\n",
       "      <td>No Degree</td>\n",
       "      <td>Primary Children</td>\n",
       "      <td>Severe</td>\n",
       "    </tr>\n",
       "    <tr>\n",
       "      <th>2</th>\n",
       "      <td>3</td>\n",
       "      <td>3</td>\n",
       "      <td>3</td>\n",
       "      <td>3</td>\n",
       "      <td>3</td>\n",
       "      <td>3</td>\n",
       "      <td>3</td>\n",
       "      <td>3</td>\n",
       "      <td>0</td>\n",
       "      <td>3</td>\n",
       "      <td>...</td>\n",
       "      <td>1</td>\n",
       "      <td>4</td>\n",
       "      <td>3</td>\n",
       "      <td>60</td>\n",
       "      <td>1</td>\n",
       "      <td>1</td>\n",
       "      <td>3</td>\n",
       "      <td>No Degree</td>\n",
       "      <td>Secondary Children</td>\n",
       "      <td>Extremely Severe</td>\n",
       "    </tr>\n",
       "    <tr>\n",
       "      <th>3</th>\n",
       "      <td>1</td>\n",
       "      <td>2</td>\n",
       "      <td>2</td>\n",
       "      <td>0</td>\n",
       "      <td>1</td>\n",
       "      <td>2</td>\n",
       "      <td>0</td>\n",
       "      <td>0</td>\n",
       "      <td>1</td>\n",
       "      <td>2</td>\n",
       "      <td>...</td>\n",
       "      <td>2</td>\n",
       "      <td>4</td>\n",
       "      <td>5</td>\n",
       "      <td>70</td>\n",
       "      <td>2</td>\n",
       "      <td>1</td>\n",
       "      <td>5</td>\n",
       "      <td>Biology</td>\n",
       "      <td>Primary Children</td>\n",
       "      <td>Moderate</td>\n",
       "    </tr>\n",
       "    <tr>\n",
       "      <th>4</th>\n",
       "      <td>2</td>\n",
       "      <td>3</td>\n",
       "      <td>2</td>\n",
       "      <td>3</td>\n",
       "      <td>2</td>\n",
       "      <td>3</td>\n",
       "      <td>2</td>\n",
       "      <td>1</td>\n",
       "      <td>3</td>\n",
       "      <td>2</td>\n",
       "      <td>...</td>\n",
       "      <td>3</td>\n",
       "      <td>10</td>\n",
       "      <td>1</td>\n",
       "      <td>10</td>\n",
       "      <td>2</td>\n",
       "      <td>1</td>\n",
       "      <td>4</td>\n",
       "      <td>Psychology</td>\n",
       "      <td>Secondary Children</td>\n",
       "      <td>Extremely Severe</td>\n",
       "    </tr>\n",
       "  </tbody>\n",
       "</table>\n",
       "<p>5 rows × 43 columns</p>\n",
       "</div>"
      ],
      "text/plain": [
       "   Q3A  Q5A  Q10A  Q13A  Q16A  Q17A  Q21A  Q24A  Q26A  Q31A  ...  hand  \\\n",
       "0    1    3     0     3     3     2     0     3     3     3  ...     1   \n",
       "1    1    3     1     3     2     3     1     1     2     1  ...     2   \n",
       "2    3    3     3     3     3     3     3     3     0     3  ...     1   \n",
       "3    1    2     2     0     1     2     0     0     1     2  ...     2   \n",
       "4    2    3     2     3     2     3     2     1     3     2  ...     3   \n",
       "\n",
       "   religion  orientation  race  voted married  familysize       major  \\\n",
       "0        12            1    10      2       1           2   No Degree   \n",
       "1         7            3    70      2       1           4   No Degree   \n",
       "2         4            3    60      1       1           3   No Degree   \n",
       "3         4            5    70      2       1           5     Biology   \n",
       "4        10            1    10      2       1           4  Psychology   \n",
       "\n",
       "           Age_Groups         Condition  \n",
       "0    Primary Children            Severe  \n",
       "1    Primary Children            Severe  \n",
       "2  Secondary Children  Extremely Severe  \n",
       "3    Primary Children          Moderate  \n",
       "4  Secondary Children  Extremely Severe  \n",
       "\n",
       "[5 rows x 43 columns]"
      ]
     },
     "execution_count": 51,
     "metadata": {},
     "output_type": "execute_result"
    }
   ],
   "source": [
    "def condition(x):\n",
    "    if x<=9:\n",
    "        return 'Normal'\n",
    "    if  10<=x<=13:\n",
    "        return 'Mild'\n",
    "    if 14<=x<=20:\n",
    "        return 'Moderate'\n",
    "    if 21<=x<=27:\n",
    "        return 'Severe'\n",
    "    if x>28:\n",
    "        return 'Extremely Severe'\n",
    "\n",
    "Depression['Condition']=Depression['Total_Count'].apply(condition)\n",
    "Depression.head()"
   ]
  },
  {
   "cell_type": "code",
   "execution_count": 52,
   "metadata": {},
   "outputs": [
    {
     "name": "stderr",
     "output_type": "stream",
     "text": [
      "C:\\Users\\hady2\\anaconda3\\lib\\site-packages\\seaborn\\_decorators.py:36: FutureWarning: Pass the following variable as a keyword arg: x. From version 0.12, the only valid positional argument will be `data`, and passing other arguments without an explicit keyword will result in an error or misinterpretation.\n",
      "  warnings.warn(\n"
     ]
    },
    {
     "data": {
      "text/plain": [
       "Text(0.5, 1.0, 'People Condition of Depression Level')"
      ]
     },
     "execution_count": 52,
     "metadata": {},
     "output_type": "execute_result"
    },
    {
     "data": {
      "image/png": "[encoded data removed]",
      "text/plain": [
       "<Figure size 720x432 with 1 Axes>"
      ]
     },
     "metadata": {
      "needs_background": "light"
     },
     "output_type": "display_data"
    }
   ],
   "source": [
    "plt.figure(figsize=(10,6))\n",
    "sns.countplot(Depression.sort_values('Condition').Condition)\n",
    "plt.title('People Condition of Depression Level',fontsize=15)"
   ]
  },
  {
   "cell_type": "markdown",
   "metadata": {},
   "source": [
    "**Changing variables for Correlation**"
   ]
  },
  {
   "cell_type": "code",
   "execution_count": 53,
   "metadata": {},
   "outputs": [
    {
     "data": {
      "text/html": [
       "<div>\n",
       "<style scoped>\n",
       "    .dataframe tbody tr th:only-of-type {\n",
       "        vertical-align: middle;\n",
       "    }\n",
       "\n",
       "    .dataframe tbody tr th {\n",
       "        vertical-align: top;\n",
       "    }\n",
       "\n",
       "    .dataframe thead th {\n",
       "        text-align: right;\n",
       "    }\n",
       "</style>\n",
       "<table border=\"1\" class=\"dataframe\">\n",
       "  <thead>\n",
       "    <tr style=\"text-align: right;\">\n",
       "      <th></th>\n",
       "      <th>Q3A</th>\n",
       "      <th>Q5A</th>\n",
       "      <th>Q10A</th>\n",
       "      <th>Q13A</th>\n",
       "      <th>Q16A</th>\n",
       "      <th>Q17A</th>\n",
       "      <th>Q21A</th>\n",
       "      <th>Q24A</th>\n",
       "      <th>Q26A</th>\n",
       "      <th>Q31A</th>\n",
       "      <th>...</th>\n",
       "      <th>hand</th>\n",
       "      <th>religion</th>\n",
       "      <th>orientation</th>\n",
       "      <th>race</th>\n",
       "      <th>voted</th>\n",
       "      <th>married</th>\n",
       "      <th>familysize</th>\n",
       "      <th>major</th>\n",
       "      <th>Age_Groups</th>\n",
       "      <th>Condition</th>\n",
       "    </tr>\n",
       "  </thead>\n",
       "  <tbody>\n",
       "    <tr>\n",
       "      <th>0</th>\n",
       "      <td>1</td>\n",
       "      <td>3</td>\n",
       "      <td>0</td>\n",
       "      <td>3</td>\n",
       "      <td>3</td>\n",
       "      <td>2</td>\n",
       "      <td>0</td>\n",
       "      <td>3</td>\n",
       "      <td>3</td>\n",
       "      <td>3</td>\n",
       "      <td>...</td>\n",
       "      <td>1</td>\n",
       "      <td>12</td>\n",
       "      <td>1</td>\n",
       "      <td>10</td>\n",
       "      <td>2</td>\n",
       "      <td>1</td>\n",
       "      <td>2</td>\n",
       "      <td>No Degree</td>\n",
       "      <td>1</td>\n",
       "      <td>3.0</td>\n",
       "    </tr>\n",
       "    <tr>\n",
       "      <th>1</th>\n",
       "      <td>1</td>\n",
       "      <td>3</td>\n",
       "      <td>1</td>\n",
       "      <td>3</td>\n",
       "      <td>2</td>\n",
       "      <td>3</td>\n",
       "      <td>1</td>\n",
       "      <td>1</td>\n",
       "      <td>2</td>\n",
       "      <td>1</td>\n",
       "      <td>...</td>\n",
       "      <td>2</td>\n",
       "      <td>7</td>\n",
       "      <td>3</td>\n",
       "      <td>70</td>\n",
       "      <td>2</td>\n",
       "      <td>1</td>\n",
       "      <td>4</td>\n",
       "      <td>No Degree</td>\n",
       "      <td>1</td>\n",
       "      <td>3.0</td>\n",
       "    </tr>\n",
       "    <tr>\n",
       "      <th>2</th>\n",
       "      <td>3</td>\n",
       "      <td>3</td>\n",
       "      <td>3</td>\n",
       "      <td>3</td>\n",
       "      <td>3</td>\n",
       "      <td>3</td>\n",
       "      <td>3</td>\n",
       "      <td>3</td>\n",
       "      <td>0</td>\n",
       "      <td>3</td>\n",
       "      <td>...</td>\n",
       "      <td>1</td>\n",
       "      <td>4</td>\n",
       "      <td>3</td>\n",
       "      <td>60</td>\n",
       "      <td>1</td>\n",
       "      <td>1</td>\n",
       "      <td>3</td>\n",
       "      <td>No Degree</td>\n",
       "      <td>2</td>\n",
       "      <td>4.0</td>\n",
       "    </tr>\n",
       "    <tr>\n",
       "      <th>3</th>\n",
       "      <td>1</td>\n",
       "      <td>2</td>\n",
       "      <td>2</td>\n",
       "      <td>0</td>\n",
       "      <td>1</td>\n",
       "      <td>2</td>\n",
       "      <td>0</td>\n",
       "      <td>0</td>\n",
       "      <td>1</td>\n",
       "      <td>2</td>\n",
       "      <td>...</td>\n",
       "      <td>2</td>\n",
       "      <td>4</td>\n",
       "      <td>5</td>\n",
       "      <td>70</td>\n",
       "      <td>2</td>\n",
       "      <td>1</td>\n",
       "      <td>5</td>\n",
       "      <td>Biology</td>\n",
       "      <td>1</td>\n",
       "      <td>2.0</td>\n",
       "    </tr>\n",
       "    <tr>\n",
       "      <th>4</th>\n",
       "      <td>2</td>\n",
       "      <td>3</td>\n",
       "      <td>2</td>\n",
       "      <td>3</td>\n",
       "      <td>2</td>\n",
       "      <td>3</td>\n",
       "      <td>2</td>\n",
       "      <td>1</td>\n",
       "      <td>3</td>\n",
       "      <td>2</td>\n",
       "      <td>...</td>\n",
       "      <td>3</td>\n",
       "      <td>10</td>\n",
       "      <td>1</td>\n",
       "      <td>10</td>\n",
       "      <td>2</td>\n",
       "      <td>1</td>\n",
       "      <td>4</td>\n",
       "      <td>Psychology</td>\n",
       "      <td>2</td>\n",
       "      <td>4.0</td>\n",
       "    </tr>\n",
       "  </tbody>\n",
       "</table>\n",
       "<p>5 rows × 41 columns</p>\n",
       "</div>"
      ],
      "text/plain": [
       "   Q3A  Q5A  Q10A  Q13A  Q16A  Q17A  Q21A  Q24A  Q26A  Q31A  ...  hand  \\\n",
       "0    1    3     0     3     3     2     0     3     3     3  ...     1   \n",
       "1    1    3     1     3     2     3     1     1     2     1  ...     2   \n",
       "2    3    3     3     3     3     3     3     3     0     3  ...     1   \n",
       "3    1    2     2     0     1     2     0     0     1     2  ...     2   \n",
       "4    2    3     2     3     2     3     2     1     3     2  ...     3   \n",
       "\n",
       "   religion  orientation  race voted  married  familysize       major  \\\n",
       "0        12            1    10     2        1           2   No Degree   \n",
       "1         7            3    70     2        1           4   No Degree   \n",
       "2         4            3    60     1        1           3   No Degree   \n",
       "3         4            5    70     2        1           5     Biology   \n",
       "4        10            1    10     2        1           4  Psychology   \n",
       "\n",
       "   Age_Groups  Condition  \n",
       "0           1        3.0  \n",
       "1           1        3.0  \n",
       "2           2        4.0  \n",
       "3           1        2.0  \n",
       "4           2        4.0  \n",
       "\n",
       "[5 rows x 41 columns]"
      ]
     },
     "execution_count": 53,
     "metadata": {},
     "output_type": "execute_result"
    }
   ],
   "source": [
    "Depr=Depression.copy()\n",
    "def condition(x):\n",
    "    if x<=9:\n",
    "        return 0\n",
    "    if  10<=x<=13:\n",
    "        return 1\n",
    "    if 14<=x<=20:\n",
    "        return 2\n",
    "    if 21<=x<=27:\n",
    "        return 3\n",
    "    if x>28:\n",
    "        return 4\n",
    "\n",
    "def cond(x):\n",
    "    if x<=10:\n",
    "        return 0\n",
    "    if  10<=x<=16:\n",
    "        return 1\n",
    "    if 17<=x<=21:\n",
    "        return 2\n",
    "    if 21<=x<=35:\n",
    "        return 3\n",
    "    if 36<=x<=48:\n",
    "        return 4\n",
    "    if x>=49:\n",
    "        return 5\n",
    "Depr['Condition']=Depr['Total_Count'].apply(condition)\n",
    "Depr['Age_Groups']=Depr['age'].apply(cond)\n",
    "Depr=Depr.drop(columns=['age','Total_Count'])\n",
    "Depr.head()"
   ]
  },
  {
   "cell_type": "code",
   "execution_count": 54,
   "metadata": {},
   "outputs": [
    {
     "data": {
      "text/plain": [
       "<AxesSubplot:>"
      ]
     },
     "execution_count": 54,
     "metadata": {},
     "output_type": "execute_result"
    },
    {
     "data": {
      "image/png": "[encoded data removed]",
      "text/plain": [
       "<Figure size 1440x1440 with 2 Axes>"
      ]
     },
     "metadata": {
      "needs_background": "light"
     },
     "output_type": "display_data"
    }
   ],
   "source": [
    "plt.figure(figsize=(20,20))\n",
    "sns.heatmap(Depr.corr(),vmin=-1,vmax=1,cmap=sns.diverging_palette(20,220,n=200))"
   ]
  },
  {
   "cell_type": "markdown",
   "metadata": {
    "jp-MarkdownHeadingCollapsed": true,
    "tags": []
   },
   "source": [
    "# **Comparing different answers given for situations like gender, marriage, education, races etc and comparing with their Depression Condition**"
   ]
  },
  {
   "cell_type": "markdown",
   "metadata": {
    "tags": []
   },
   "source": [
    "# Genders\n",
    "\n",
    "* 1=Male\n",
    "* 2=Female\n",
    "* 3=Other"
   ]
  },
  {
   "cell_type": "code",
   "execution_count": 55,
   "metadata": {},
   "outputs": [
    {
     "name": "stdout",
     "output_type": "stream",
     "text": [
      "Count of People participated as of Gender\n",
      " 2    30366\n",
      "1     8788\n",
      "3      619\n",
      "Name: gender, dtype: int64\n"
     ]
    }
   ],
   "source": [
    "print('Count of People participated as of Gender\\n',data_2['gender'].value_counts())"
   ]
  },
  {
   "cell_type": "code",
   "execution_count": 56,
   "metadata": {},
   "outputs": [
    {
     "name": "stderr",
     "output_type": "stream",
     "text": [
      "C:\\Users\\hady2\\anaconda3\\lib\\site-packages\\seaborn\\_decorators.py:36: FutureWarning: Pass the following variable as a keyword arg: x. From version 0.12, the only valid positional argument will be `data`, and passing other arguments without an explicit keyword will result in an error or misinterpretation.\n",
      "  warnings.warn(\n"
     ]
    },
    {
     "data": {
      "text/plain": [
       "Text(0.5, 1.0, 'Depression Condition of Different Gender')"
      ]
     },
     "execution_count": 56,
     "metadata": {},
     "output_type": "execute_result"
    },
    {
     "data": {
      "image/png": "[encoded data removed]",
      "text/plain": [
       "<Figure size 720x432 with 1 Axes>"
      ]
     },
     "metadata": {
      "needs_background": "light"
     },
     "output_type": "display_data"
    }
   ],
   "source": [
    "plt.figure(figsize=(10,6))\n",
    "sns.countplot(Depression.sort_values('gender').gender,hue=Depression['Condition'],palette='Pastel1')\n",
    "plt.title('Depression Condition of Different Gender',fontsize=15)"
   ]
  },
  {
   "cell_type": "markdown",
   "metadata": {},
   "source": [
    "# Martial Status\n",
    "\n",
    "* 1=Never married\n",
    "* 2=Currently married\n",
    "* 3=Previously married"
   ]
  },
  {
   "cell_type": "code",
   "execution_count": 57,
   "metadata": {},
   "outputs": [
    {
     "data": {
      "text/plain": [
       "1    34130\n",
       "2     4357\n",
       "3     1286\n",
       "Name: married, dtype: int64"
      ]
     },
     "execution_count": 57,
     "metadata": {},
     "output_type": "execute_result"
    }
   ],
   "source": [
    "Depression['married'].value_counts()"
   ]
  },
  {
   "cell_type": "markdown",
   "metadata": {},
   "source": [
    "*People participating were mostly single and not married at the time of answers*"
   ]
  },
  {
   "cell_type": "code",
   "execution_count": 58,
   "metadata": {},
   "outputs": [
    {
     "name": "stderr",
     "output_type": "stream",
     "text": [
      "C:\\Users\\hady2\\anaconda3\\lib\\site-packages\\seaborn\\_decorators.py:36: FutureWarning: Pass the following variable as a keyword arg: x. From version 0.12, the only valid positional argument will be `data`, and passing other arguments without an explicit keyword will result in an error or misinterpretation.\n",
      "  warnings.warn(\n"
     ]
    },
    {
     "data": {
      "text/plain": [
       "Text(0.5, 1.0, 'Depression State of People as of Married or Not')"
      ]
     },
     "execution_count": 58,
     "metadata": {},
     "output_type": "execute_result"
    },
    {
     "data": {
      "image/png": "[encoded data removed]",
      "text/plain": [
       "<Figure size 720x432 with 1 Axes>"
      ]
     },
     "metadata": {
      "needs_background": "light"
     },
     "output_type": "display_data"
    }
   ],
   "source": [
    "plt.figure(figsize=(10,6))\n",
    "sns.countplot(Depression.sort_values('married').married,hue=Depression['Condition'],palette='terrain')\n",
    "plt.title('Depression State of People as of Married or Not',fontsize=15)\n"
   ]
  },
  {
   "cell_type": "markdown",
   "metadata": {},
   "source": [
    "**Comparing results**\n",
    "> Never Married\n",
    "* Moslty had extremely severe conditions for Depression.\n",
    "\n",
    "> Married\n",
    "* Moslty were normal\n",
    "\n",
    "> Divorced\n",
    "* As per the people participated Most people were in Extreme Severe for depressive state"
   ]
  },
  {
   "cell_type": "markdown",
   "metadata": {},
   "source": [
    "# Religions\n",
    "\n",
    "* 1=Agnostic\n",
    "* 2=Atheist\n",
    "* 3=Buddhist\n",
    "* 4=Christian (Catholic)\n",
    "* 5=Christian (Mormon)\n",
    "* 6=Christian (Protestant)\n",
    "* 7=Christian (Other)\n",
    "* 8=Hindu\n",
    "* 9=Jewish \n",
    "* 10=Muslim \n",
    "* 11=Sikh\n",
    "* 12=Other"
   ]
  },
  {
   "cell_type": "code",
   "execution_count": 59,
   "metadata": {},
   "outputs": [
    {
     "data": {
      "text/plain": [
       "11       64\n",
       "5       122\n",
       "9       144\n",
       "8       700\n",
       "3       882\n",
       "6      1544\n",
       "12     1804\n",
       "7      2254\n",
       "4      3097\n",
       "1      3244\n",
       "2      3845\n",
       "10    22073\n",
       "Name: religion, dtype: int64"
      ]
     },
     "execution_count": 59,
     "metadata": {},
     "output_type": "execute_result"
    }
   ],
   "source": [
    "data_2['religion'].value_counts(ascending=True)"
   ]
  },
  {
   "cell_type": "markdown",
   "metadata": {},
   "source": [
    "*People who participated to answers were moslty from Muslim religion*"
   ]
  },
  {
   "cell_type": "code",
   "execution_count": 60,
   "metadata": {},
   "outputs": [
    {
     "name": "stderr",
     "output_type": "stream",
     "text": [
      "C:\\Users\\hady2\\anaconda3\\lib\\site-packages\\seaborn\\_decorators.py:36: FutureWarning: Pass the following variable as a keyword arg: x. From version 0.12, the only valid positional argument will be `data`, and passing other arguments without an explicit keyword will result in an error or misinterpretation.\n",
      "  warnings.warn(\n"
     ]
    },
    {
     "data": {
      "text/plain": [
       "Text(0.5, 1.0, 'Depression Condition as per Religion')"
      ]
     },
     "execution_count": 60,
     "metadata": {},
     "output_type": "execute_result"
    },
    {
     "data": {
      "image/png": "[encoded data removed]",
      "text/plain": [
       "<Figure size 864x432 with 1 Axes>"
      ]
     },
     "metadata": {
      "needs_background": "light"
     },
     "output_type": "display_data"
    }
   ],
   "source": [
    "plt.figure(figsize=(12,6))\n",
    "a=sns.countplot(Depression.sort_values('religion').religion,hue=Depression['Condition'])\n",
    "plt.title('Depression Condition as per Religion',fontsize=15)"
   ]
  },
  {
   "cell_type": "markdown",
   "metadata": {},
   "source": [
    "# Races \n",
    "\n",
    "* 10=Asian \n",
    "* 20=Arab \n",
    "* 30=Black \n",
    "* 40=Indigenous Australian \n",
    "* 50=Native American\n",
    "* 60=White\n",
    "* 70=Other"
   ]
  },
  {
   "cell_type": "code",
   "execution_count": 61,
   "metadata": {},
   "outputs": [
    {
     "name": "stdout",
     "output_type": "stream",
     "text": [
      "Counts of answered recorded as per races\n",
      " 10    23106\n",
      "60    10657\n",
      "70     4832\n",
      "30      603\n",
      "20      333\n",
      "50      220\n",
      "40       22\n",
      "Name: race, dtype: int64\n"
     ]
    }
   ],
   "source": [
    "print('Counts of answered recorded as per races\\n',data_2['race'].value_counts())"
   ]
  },
  {
   "cell_type": "code",
   "execution_count": 62,
   "metadata": {},
   "outputs": [
    {
     "name": "stderr",
     "output_type": "stream",
     "text": [
      "C:\\Users\\hady2\\anaconda3\\lib\\site-packages\\seaborn\\_decorators.py:36: FutureWarning: Pass the following variable as a keyword arg: x. From version 0.12, the only valid positional argument will be `data`, and passing other arguments without an explicit keyword will result in an error or misinterpretation.\n",
      "  warnings.warn(\n"
     ]
    },
    {
     "data": {
      "text/plain": [
       "Text(0.5, 1.0, 'Depression Condition as per Race')"
      ]
     },
     "execution_count": 62,
     "metadata": {},
     "output_type": "execute_result"
    },
    {
     "data": {
      "image/png": "[encoded data removed]",
      "text/plain": [
       "<Figure size 720x432 with 1 Axes>"
      ]
     },
     "metadata": {
      "needs_background": "light"
     },
     "output_type": "display_data"
    }
   ],
   "source": [
    "plt.figure(figsize=(10,6))\n",
    "sns.countplot(Depression.sort_values('race').race,hue=Depression['Condition'])\n",
    "plt.title('Depression Condition as per Race',fontsize=15)"
   ]
  },
  {
   "cell_type": "markdown",
   "metadata": {},
   "source": [
    "# Sexual Orientation\n",
    "\n",
    "* 1=Heterosexual\n",
    "* 2=Bisexual\n",
    "* 3=Homosexual \n",
    "* 4=Asexual\n",
    "* 5=Other"
   ]
  },
  {
   "cell_type": "code",
   "execution_count": 63,
   "metadata": {},
   "outputs": [
    {
     "name": "stdout",
     "output_type": "stream",
     "text": [
      "Count of answered recorded as per sexual Orientation \n",
      " 1    24269\n",
      "3     5063\n",
      "2     5005\n",
      "5     3460\n",
      "4     1976\n",
      "Name: orientation, dtype: int64\n"
     ]
    }
   ],
   "source": [
    "print('Count of answered recorded as per sexual Orientation \\n',data_2['orientation'].value_counts())"
   ]
  },
  {
   "cell_type": "code",
   "execution_count": 64,
   "metadata": {},
   "outputs": [
    {
     "name": "stderr",
     "output_type": "stream",
     "text": [
      "C:\\Users\\hady2\\anaconda3\\lib\\site-packages\\seaborn\\_decorators.py:36: FutureWarning: Pass the following variable as a keyword arg: x. From version 0.12, the only valid positional argument will be `data`, and passing other arguments without an explicit keyword will result in an error or misinterpretation.\n",
      "  warnings.warn(\n"
     ]
    },
    {
     "data": {
      "text/plain": [
       "Text(0.5, 1.0, 'Depression Condition as per different sexual Orientations')"
      ]
     },
     "execution_count": 64,
     "metadata": {},
     "output_type": "execute_result"
    },
    {
     "data": {
      "image/png": "[encoded data removed]",
      "text/plain": [
       "<Figure size 720x432 with 1 Axes>"
      ]
     },
     "metadata": {
      "needs_background": "light"
     },
     "output_type": "display_data"
    }
   ],
   "source": [
    "plt.figure(figsize=(10,6))\n",
    "sns.countplot(Depression.sort_values('orientation').orientation,hue=Depression['Condition'])\n",
    "plt.title('Depression Condition as per different sexual Orientations',fontsize=15)"
   ]
  },
  {
   "cell_type": "markdown",
   "metadata": {},
   "source": [
    "**All different sexual orientations given the participation,mostly were extremely severe for Depression and Anxiety**"
   ]
  },
  {
   "cell_type": "markdown",
   "metadata": {
    "tags": []
   },
   "source": [
    "# Age Groups\n",
    "\n",
    "*Where*\n",
    "* Under 10\n",
    "* Primary(10-16)\n",
    "* Secondary(17-21)\n",
    "* Adults(21-35)\n",
    "* Elder Adults(36-48)\n",
    "* Older people(49+)\n",
    "       "
   ]
  },
  {
   "cell_type": "code",
   "execution_count": 65,
   "metadata": {},
   "outputs": [
    {
     "name": "stdout",
     "output_type": "stream",
     "text": [
      "Counts of answered recorded as per age groups\n",
      " Secondary Children    16188\n",
      "Adults                15388\n",
      " Primary Children      4960\n",
      "Elder Adults           2081\n",
      "Older People           1156\n",
      "Name: Age_Groups, dtype: int64\n"
     ]
    }
   ],
   "source": [
    "print('Counts of answered recorded as per age groups\\n',data_2['Age_Groups'].value_counts())"
   ]
  },
  {
   "cell_type": "code",
   "execution_count": 66,
   "metadata": {},
   "outputs": [
    {
     "name": "stderr",
     "output_type": "stream",
     "text": [
      "C:\\Users\\hady2\\anaconda3\\lib\\site-packages\\seaborn\\_decorators.py:36: FutureWarning: Pass the following variable as a keyword arg: x. From version 0.12, the only valid positional argument will be `data`, and passing other arguments without an explicit keyword will result in an error or misinterpretation.\n",
      "  warnings.warn(\n"
     ]
    },
    {
     "data": {
      "text/plain": [
       "Text(0.5, 1.0, 'Depression Condition as per different Age Groups')"
      ]
     },
     "execution_count": 66,
     "metadata": {},
     "output_type": "execute_result"
    },
    {
     "data": {
      "image/png": "[encoded data removed]",
      "text/plain": [
       "<Figure size 720x432 with 1 Axes>"
      ]
     },
     "metadata": {
      "needs_background": "light"
     },
     "output_type": "display_data"
    }
   ],
   "source": [
    "plt.figure(figsize=(10,6))\n",
    "sns.countplot(Depression.sort_values('Age_Groups').Age_Groups,hue=Depression['Condition'],palette='Set2')\n",
    "plt.title('Depression Condition as per different Age Groups',fontsize=15)"
   ]
  },
  {
   "cell_type": "markdown",
   "metadata": {},
   "source": [
    "# Education level\n",
    "\n",
    "*  1=Less than high school \n",
    "*  2=High school\n",
    "*  3=University degree\n",
    "*  4=Graduate degree"
   ]
  },
  {
   "cell_type": "code",
   "execution_count": 67,
   "metadata": {},
   "outputs": [
    {
     "name": "stdout",
     "output_type": "stream",
     "text": [
      "Counts of answered recorded as per the Education \n",
      " 3    15634\n",
      "2    15065\n",
      "4     5008\n",
      "1     4066\n",
      "Name: education, dtype: int64\n"
     ]
    }
   ],
   "source": [
    "print('Counts of answered recorded as per the Education \\n',data_2['education'].value_counts())"
   ]
  },
  {
   "cell_type": "code",
   "execution_count": 68,
   "metadata": {},
   "outputs": [
    {
     "name": "stderr",
     "output_type": "stream",
     "text": [
      "C:\\Users\\hady2\\anaconda3\\lib\\site-packages\\seaborn\\_decorators.py:36: FutureWarning: Pass the following variable as a keyword arg: x. From version 0.12, the only valid positional argument will be `data`, and passing other arguments without an explicit keyword will result in an error or misinterpretation.\n",
      "  warnings.warn(\n"
     ]
    },
    {
     "data": {
      "text/plain": [
       "Text(0.5, 1.0, 'Depression Condition as per different Education levels')"
      ]
     },
     "execution_count": 68,
     "metadata": {},
     "output_type": "execute_result"
    },
    {
     "data": {
      "image/png": "[encoded data removed]",
      "text/plain": [
       "<Figure size 720x432 with 1 Axes>"
      ]
     },
     "metadata": {
      "needs_background": "light"
     },
     "output_type": "display_data"
    }
   ],
   "source": [
    "plt.figure(figsize=(10,6))\n",
    "sns.countplot(Depression.sort_values('education').education,hue=Depression['Condition'],palette='Set3')\n",
    "plt.title('Depression Condition as per different Education levels',fontsize=15)"
   ]
  },
  {
   "cell_type": "code",
   "execution_count": 69,
   "metadata": {},
   "outputs": [],
   "source": [
    "def change_var(x):\n",
    "    if x=='Primary Children':\n",
    "        return 0\n",
    "    elif x=='Secondary Children':\n",
    "        return 1\n",
    "    elif x=='Adults':\n",
    "        return 2\n",
    "    elif x=='Elder Adults':\n",
    "        return 3\n",
    "    elif x=='Older People':\n",
    "        return 4\n",
    "    \n",
    "\n",
    "    \n",
    "Depression['Age_Groups']=Depression['Age_Groups'].apply(change_var)\n",
    "\n",
    "\n"
   ]
  },
  {
   "cell_type": "code",
   "execution_count": 70,
   "metadata": {},
   "outputs": [
    {
     "data": {
      "text/html": [
       "<div>\n",
       "<style scoped>\n",
       "    .dataframe tbody tr th:only-of-type {\n",
       "        vertical-align: middle;\n",
       "    }\n",
       "\n",
       "    .dataframe tbody tr th {\n",
       "        vertical-align: top;\n",
       "    }\n",
       "\n",
       "    .dataframe thead th {\n",
       "        text-align: right;\n",
       "    }\n",
       "</style>\n",
       "<table border=\"1\" class=\"dataframe\">\n",
       "  <thead>\n",
       "    <tr style=\"text-align: right;\">\n",
       "      <th></th>\n",
       "      <th>Q3A</th>\n",
       "      <th>Q5A</th>\n",
       "      <th>Q10A</th>\n",
       "      <th>Q13A</th>\n",
       "      <th>Q16A</th>\n",
       "      <th>Q17A</th>\n",
       "      <th>Q21A</th>\n",
       "      <th>Q24A</th>\n",
       "      <th>Q26A</th>\n",
       "      <th>Q31A</th>\n",
       "      <th>...</th>\n",
       "      <th>hand</th>\n",
       "      <th>religion</th>\n",
       "      <th>orientation</th>\n",
       "      <th>race</th>\n",
       "      <th>voted</th>\n",
       "      <th>married</th>\n",
       "      <th>familysize</th>\n",
       "      <th>major</th>\n",
       "      <th>Age_Groups</th>\n",
       "      <th>Condition</th>\n",
       "    </tr>\n",
       "  </thead>\n",
       "  <tbody>\n",
       "    <tr>\n",
       "      <th>2</th>\n",
       "      <td>3</td>\n",
       "      <td>3</td>\n",
       "      <td>3</td>\n",
       "      <td>3</td>\n",
       "      <td>3</td>\n",
       "      <td>3</td>\n",
       "      <td>3</td>\n",
       "      <td>3</td>\n",
       "      <td>0</td>\n",
       "      <td>3</td>\n",
       "      <td>...</td>\n",
       "      <td>1</td>\n",
       "      <td>4</td>\n",
       "      <td>3</td>\n",
       "      <td>60</td>\n",
       "      <td>1</td>\n",
       "      <td>1</td>\n",
       "      <td>3</td>\n",
       "      <td>No Degree</td>\n",
       "      <td>1.0</td>\n",
       "      <td>Extremely Severe</td>\n",
       "    </tr>\n",
       "    <tr>\n",
       "      <th>4</th>\n",
       "      <td>2</td>\n",
       "      <td>3</td>\n",
       "      <td>2</td>\n",
       "      <td>3</td>\n",
       "      <td>2</td>\n",
       "      <td>3</td>\n",
       "      <td>2</td>\n",
       "      <td>1</td>\n",
       "      <td>3</td>\n",
       "      <td>2</td>\n",
       "      <td>...</td>\n",
       "      <td>3</td>\n",
       "      <td>10</td>\n",
       "      <td>1</td>\n",
       "      <td>10</td>\n",
       "      <td>2</td>\n",
       "      <td>1</td>\n",
       "      <td>4</td>\n",
       "      <td>Psychology</td>\n",
       "      <td>1.0</td>\n",
       "      <td>Extremely Severe</td>\n",
       "    </tr>\n",
       "    <tr>\n",
       "      <th>5</th>\n",
       "      <td>1</td>\n",
       "      <td>2</td>\n",
       "      <td>1</td>\n",
       "      <td>0</td>\n",
       "      <td>3</td>\n",
       "      <td>1</td>\n",
       "      <td>0</td>\n",
       "      <td>1</td>\n",
       "      <td>0</td>\n",
       "      <td>1</td>\n",
       "      <td>...</td>\n",
       "      <td>1</td>\n",
       "      <td>4</td>\n",
       "      <td>1</td>\n",
       "      <td>70</td>\n",
       "      <td>2</td>\n",
       "      <td>1</td>\n",
       "      <td>4</td>\n",
       "      <td>No Degree</td>\n",
       "      <td>1.0</td>\n",
       "      <td>Mild</td>\n",
       "    </tr>\n",
       "    <tr>\n",
       "      <th>6</th>\n",
       "      <td>1</td>\n",
       "      <td>3</td>\n",
       "      <td>3</td>\n",
       "      <td>1</td>\n",
       "      <td>3</td>\n",
       "      <td>1</td>\n",
       "      <td>3</td>\n",
       "      <td>2</td>\n",
       "      <td>1</td>\n",
       "      <td>3</td>\n",
       "      <td>...</td>\n",
       "      <td>1</td>\n",
       "      <td>7</td>\n",
       "      <td>2</td>\n",
       "      <td>60</td>\n",
       "      <td>2</td>\n",
       "      <td>1</td>\n",
       "      <td>4</td>\n",
       "      <td>Engineering</td>\n",
       "      <td>1.0</td>\n",
       "      <td>Extremely Severe</td>\n",
       "    </tr>\n",
       "    <tr>\n",
       "      <th>7</th>\n",
       "      <td>0</td>\n",
       "      <td>2</td>\n",
       "      <td>0</td>\n",
       "      <td>0</td>\n",
       "      <td>0</td>\n",
       "      <td>0</td>\n",
       "      <td>0</td>\n",
       "      <td>0</td>\n",
       "      <td>1</td>\n",
       "      <td>0</td>\n",
       "      <td>...</td>\n",
       "      <td>1</td>\n",
       "      <td>2</td>\n",
       "      <td>2</td>\n",
       "      <td>60</td>\n",
       "      <td>1</td>\n",
       "      <td>1</td>\n",
       "      <td>2</td>\n",
       "      <td>Music/Dance</td>\n",
       "      <td>2.0</td>\n",
       "      <td>Normal</td>\n",
       "    </tr>\n",
       "    <tr>\n",
       "      <th>...</th>\n",
       "      <td>...</td>\n",
       "      <td>...</td>\n",
       "      <td>...</td>\n",
       "      <td>...</td>\n",
       "      <td>...</td>\n",
       "      <td>...</td>\n",
       "      <td>...</td>\n",
       "      <td>...</td>\n",
       "      <td>...</td>\n",
       "      <td>...</td>\n",
       "      <td>...</td>\n",
       "      <td>...</td>\n",
       "      <td>...</td>\n",
       "      <td>...</td>\n",
       "      <td>...</td>\n",
       "      <td>...</td>\n",
       "      <td>...</td>\n",
       "      <td>...</td>\n",
       "      <td>...</td>\n",
       "      <td>...</td>\n",
       "      <td>...</td>\n",
       "    </tr>\n",
       "    <tr>\n",
       "      <th>39768</th>\n",
       "      <td>0</td>\n",
       "      <td>1</td>\n",
       "      <td>0</td>\n",
       "      <td>1</td>\n",
       "      <td>1</td>\n",
       "      <td>0</td>\n",
       "      <td>0</td>\n",
       "      <td>1</td>\n",
       "      <td>1</td>\n",
       "      <td>0</td>\n",
       "      <td>...</td>\n",
       "      <td>1</td>\n",
       "      <td>4</td>\n",
       "      <td>1</td>\n",
       "      <td>60</td>\n",
       "      <td>1</td>\n",
       "      <td>1</td>\n",
       "      <td>3</td>\n",
       "      <td>Psychology</td>\n",
       "      <td>2.0</td>\n",
       "      <td>Normal</td>\n",
       "    </tr>\n",
       "    <tr>\n",
       "      <th>39771</th>\n",
       "      <td>2</td>\n",
       "      <td>2</td>\n",
       "      <td>3</td>\n",
       "      <td>3</td>\n",
       "      <td>3</td>\n",
       "      <td>2</td>\n",
       "      <td>3</td>\n",
       "      <td>3</td>\n",
       "      <td>3</td>\n",
       "      <td>3</td>\n",
       "      <td>...</td>\n",
       "      <td>1</td>\n",
       "      <td>10</td>\n",
       "      <td>3</td>\n",
       "      <td>10</td>\n",
       "      <td>2</td>\n",
       "      <td>1</td>\n",
       "      <td>4</td>\n",
       "      <td>Mathematics</td>\n",
       "      <td>1.0</td>\n",
       "      <td>Extremely Severe</td>\n",
       "    </tr>\n",
       "    <tr>\n",
       "      <th>39772</th>\n",
       "      <td>1</td>\n",
       "      <td>0</td>\n",
       "      <td>0</td>\n",
       "      <td>1</td>\n",
       "      <td>0</td>\n",
       "      <td>0</td>\n",
       "      <td>0</td>\n",
       "      <td>1</td>\n",
       "      <td>0</td>\n",
       "      <td>1</td>\n",
       "      <td>...</td>\n",
       "      <td>1</td>\n",
       "      <td>7</td>\n",
       "      <td>1</td>\n",
       "      <td>30</td>\n",
       "      <td>1</td>\n",
       "      <td>2</td>\n",
       "      <td>3</td>\n",
       "      <td>I.T</td>\n",
       "      <td>3.0</td>\n",
       "      <td>Normal</td>\n",
       "    </tr>\n",
       "    <tr>\n",
       "      <th>39773</th>\n",
       "      <td>1</td>\n",
       "      <td>2</td>\n",
       "      <td>0</td>\n",
       "      <td>3</td>\n",
       "      <td>0</td>\n",
       "      <td>1</td>\n",
       "      <td>1</td>\n",
       "      <td>1</td>\n",
       "      <td>2</td>\n",
       "      <td>1</td>\n",
       "      <td>...</td>\n",
       "      <td>1</td>\n",
       "      <td>6</td>\n",
       "      <td>1</td>\n",
       "      <td>60</td>\n",
       "      <td>1</td>\n",
       "      <td>1</td>\n",
       "      <td>2</td>\n",
       "      <td>Mathematics</td>\n",
       "      <td>1.0</td>\n",
       "      <td>Moderate</td>\n",
       "    </tr>\n",
       "    <tr>\n",
       "      <th>39774</th>\n",
       "      <td>1</td>\n",
       "      <td>3</td>\n",
       "      <td>0</td>\n",
       "      <td>2</td>\n",
       "      <td>3</td>\n",
       "      <td>3</td>\n",
       "      <td>3</td>\n",
       "      <td>1</td>\n",
       "      <td>1</td>\n",
       "      <td>1</td>\n",
       "      <td>...</td>\n",
       "      <td>1</td>\n",
       "      <td>10</td>\n",
       "      <td>1</td>\n",
       "      <td>10</td>\n",
       "      <td>1</td>\n",
       "      <td>1</td>\n",
       "      <td>4</td>\n",
       "      <td>I.T</td>\n",
       "      <td>2.0</td>\n",
       "      <td>Severe</td>\n",
       "    </tr>\n",
       "  </tbody>\n",
       "</table>\n",
       "<p>34051 rows × 43 columns</p>\n",
       "</div>"
      ],
      "text/plain": [
       "       Q3A  Q5A  Q10A  Q13A  Q16A  Q17A  Q21A  Q24A  Q26A  Q31A  ...  hand  \\\n",
       "2        3    3     3     3     3     3     3     3     0     3  ...     1   \n",
       "4        2    3     2     3     2     3     2     1     3     2  ...     3   \n",
       "5        1    2     1     0     3     1     0     1     0     1  ...     1   \n",
       "6        1    3     3     1     3     1     3     2     1     3  ...     1   \n",
       "7        0    2     0     0     0     0     0     0     1     0  ...     1   \n",
       "...    ...  ...   ...   ...   ...   ...   ...   ...   ...   ...  ...   ...   \n",
       "39768    0    1     0     1     1     0     0     1     1     0  ...     1   \n",
       "39771    2    2     3     3     3     2     3     3     3     3  ...     1   \n",
       "39772    1    0     0     1     0     0     0     1     0     1  ...     1   \n",
       "39773    1    2     0     3     0     1     1     1     2     1  ...     1   \n",
       "39774    1    3     0     2     3     3     3     1     1     1  ...     1   \n",
       "\n",
       "       religion  orientation  race  voted married  familysize        major  \\\n",
       "2             4            3    60      1       1           3    No Degree   \n",
       "4            10            1    10      2       1           4   Psychology   \n",
       "5             4            1    70      2       1           4    No Degree   \n",
       "6             7            2    60      2       1           4  Engineering   \n",
       "7             2            2    60      1       1           2  Music/Dance   \n",
       "...         ...          ...   ...    ...     ...         ...          ...   \n",
       "39768         4            1    60      1       1           3   Psychology   \n",
       "39771        10            3    10      2       1           4  Mathematics   \n",
       "39772         7            1    30      1       2           3          I.T   \n",
       "39773         6            1    60      1       1           2  Mathematics   \n",
       "39774        10            1    10      1       1           4          I.T   \n",
       "\n",
       "       Age_Groups         Condition  \n",
       "2             1.0  Extremely Severe  \n",
       "4             1.0  Extremely Severe  \n",
       "5             1.0              Mild  \n",
       "6             1.0  Extremely Severe  \n",
       "7             2.0            Normal  \n",
       "...           ...               ...  \n",
       "39768         2.0            Normal  \n",
       "39771         1.0  Extremely Severe  \n",
       "39772         3.0            Normal  \n",
       "39773         1.0          Moderate  \n",
       "39774         2.0            Severe  \n",
       "\n",
       "[34051 rows x 43 columns]"
      ]
     },
     "execution_count": 70,
     "metadata": {},
     "output_type": "execute_result"
    }
   ],
   "source": [
    "Depression=Depression.dropna()\n",
    "Depression"
   ]
  },
  {
   "cell_type": "code",
   "execution_count": 71,
   "metadata": {},
   "outputs": [],
   "source": [
    "Depression=Depression.drop(columns=['Total_Count','country','age'])"
   ]
  },
  {
   "cell_type": "markdown",
   "metadata": {},
   "source": [
    "# Model Creation for predictions"
   ]
  },
  {
   "cell_type": "code",
   "execution_count": 4,
   "metadata": {},
   "outputs": [],
   "source": [
    "from sklearn.model_selection import train_test_split,cross_val_score\n",
    "from sklearn.preprocessing import MinMaxScaler\n",
    "from sklearn.ensemble import RandomForestClassifier\n",
    "from sklearn.linear_model import LogisticRegression\n",
    "from sklearn.naive_bayes import GaussianNB\n",
    "from sklearn.tree import DecisionTreeClassifier\n",
    "from sklearn.neighbors import KNeighborsClassifier\n",
    "from sklearn import svm\n",
    "from sklearn.metrics import confusion_matrix,plot_confusion_matrix,accuracy_score,precision_score, recall_score, f1_score,roc_auc_score,classification_report,mean_squared_error\n",
    "Depression=pd.read_csv('DASSDS.csv',delimiter='\\t')"
   ]
  },
  {
   "cell_type": "markdown",
   "metadata": {},
   "source": [
    " >  # 1. Model for Depression"
   ]
  },
  {
   "cell_type": "code",
   "execution_count": 11,
   "metadata": {},
   "outputs": [],
   "source": [
    "scaler=MinMaxScaler()\n",
    "X=Depression[['Q3A', 'Q5A', 'Q10A', 'Q13A', 'Q16A', 'Q17A', 'Q21A', 'Q24A', 'Q26A',\n",
    "       'Q31A', 'Q34A', 'Q37A', 'Q38A', 'Q42A',\n",
    "       'Extraverted-enthusiastic', 'Critical-quarrelsome',\n",
    "       'Dependable-self_disciplined', 'Anxious-easily upset',\n",
    "        'Open to new experiences-complex', 'Reserved-quiet', 'Sympathetic-warm',\n",
    "        'Disorganized-careless', 'Calm-emotionally_stable',\n",
    "        'Conventional-uncreative', 'education', 'urban', 'gender',\n",
    "         'uniquenetworklocation','religion',\n",
    "        'orientation', 'race', 'married', 'familysize',\n",
    "        'Age_Groups']]\n",
    "y=Depression[['Condition']]\n",
    "X_train,X_test,y_train,y_test=train_test_split(X,y,test_size=0.2,random_state=0)\n",
    "X_train_scaled = scaler.fit_transform(X_train)\n",
    "X_test_scaled = scaler.transform(X_test)"
   ]
  },
  {
   "cell_type": "code",
   "execution_count": 6,
   "metadata": {},
   "outputs": [
    {
     "name": "stdout",
     "output_type": "stream",
     "text": [
      "Training Set: (27240, 34) (27240, 1)\n",
      "Test Set: (6811, 34) (6811, 1)\n"
     ]
    },
    {
     "data": {
      "text/html": [
       "<div>\n",
       "<style scoped>\n",
       "    .dataframe tbody tr th:only-of-type {\n",
       "        vertical-align: middle;\n",
       "    }\n",
       "\n",
       "    .dataframe tbody tr th {\n",
       "        vertical-align: top;\n",
       "    }\n",
       "\n",
       "    .dataframe thead th {\n",
       "        text-align: right;\n",
       "    }\n",
       "</style>\n",
       "<table border=\"1\" class=\"dataframe\">\n",
       "  <thead>\n",
       "    <tr style=\"text-align: right;\">\n",
       "      <th></th>\n",
       "      <th>Q3A</th>\n",
       "      <th>Q5A</th>\n",
       "      <th>Q10A</th>\n",
       "      <th>Q13A</th>\n",
       "      <th>Q16A</th>\n",
       "      <th>Q17A</th>\n",
       "      <th>Q21A</th>\n",
       "      <th>Q24A</th>\n",
       "      <th>Q26A</th>\n",
       "      <th>Q31A</th>\n",
       "      <th>...</th>\n",
       "      <th>education</th>\n",
       "      <th>urban</th>\n",
       "      <th>gender</th>\n",
       "      <th>uniquenetworklocation</th>\n",
       "      <th>religion</th>\n",
       "      <th>orientation</th>\n",
       "      <th>race</th>\n",
       "      <th>married</th>\n",
       "      <th>familysize</th>\n",
       "      <th>Age_Groups</th>\n",
       "    </tr>\n",
       "  </thead>\n",
       "  <tbody>\n",
       "    <tr>\n",
       "      <th>0</th>\n",
       "      <td>3</td>\n",
       "      <td>3</td>\n",
       "      <td>3</td>\n",
       "      <td>3</td>\n",
       "      <td>3</td>\n",
       "      <td>3</td>\n",
       "      <td>3</td>\n",
       "      <td>3</td>\n",
       "      <td>0</td>\n",
       "      <td>3</td>\n",
       "      <td>...</td>\n",
       "      <td>2</td>\n",
       "      <td>3</td>\n",
       "      <td>2</td>\n",
       "      <td>1</td>\n",
       "      <td>4</td>\n",
       "      <td>3</td>\n",
       "      <td>60</td>\n",
       "      <td>1</td>\n",
       "      <td>3</td>\n",
       "      <td>1.0</td>\n",
       "    </tr>\n",
       "    <tr>\n",
       "      <th>1</th>\n",
       "      <td>2</td>\n",
       "      <td>3</td>\n",
       "      <td>2</td>\n",
       "      <td>3</td>\n",
       "      <td>2</td>\n",
       "      <td>3</td>\n",
       "      <td>2</td>\n",
       "      <td>1</td>\n",
       "      <td>3</td>\n",
       "      <td>2</td>\n",
       "      <td>...</td>\n",
       "      <td>3</td>\n",
       "      <td>2</td>\n",
       "      <td>2</td>\n",
       "      <td>2</td>\n",
       "      <td>10</td>\n",
       "      <td>1</td>\n",
       "      <td>10</td>\n",
       "      <td>1</td>\n",
       "      <td>4</td>\n",
       "      <td>1.0</td>\n",
       "    </tr>\n",
       "    <tr>\n",
       "      <th>2</th>\n",
       "      <td>1</td>\n",
       "      <td>2</td>\n",
       "      <td>1</td>\n",
       "      <td>0</td>\n",
       "      <td>3</td>\n",
       "      <td>1</td>\n",
       "      <td>0</td>\n",
       "      <td>1</td>\n",
       "      <td>0</td>\n",
       "      <td>1</td>\n",
       "      <td>...</td>\n",
       "      <td>2</td>\n",
       "      <td>3</td>\n",
       "      <td>2</td>\n",
       "      <td>1</td>\n",
       "      <td>4</td>\n",
       "      <td>1</td>\n",
       "      <td>70</td>\n",
       "      <td>1</td>\n",
       "      <td>4</td>\n",
       "      <td>1.0</td>\n",
       "    </tr>\n",
       "    <tr>\n",
       "      <th>3</th>\n",
       "      <td>1</td>\n",
       "      <td>3</td>\n",
       "      <td>3</td>\n",
       "      <td>1</td>\n",
       "      <td>3</td>\n",
       "      <td>1</td>\n",
       "      <td>3</td>\n",
       "      <td>2</td>\n",
       "      <td>1</td>\n",
       "      <td>3</td>\n",
       "      <td>...</td>\n",
       "      <td>2</td>\n",
       "      <td>3</td>\n",
       "      <td>2</td>\n",
       "      <td>1</td>\n",
       "      <td>7</td>\n",
       "      <td>2</td>\n",
       "      <td>60</td>\n",
       "      <td>1</td>\n",
       "      <td>4</td>\n",
       "      <td>1.0</td>\n",
       "    </tr>\n",
       "    <tr>\n",
       "      <th>4</th>\n",
       "      <td>0</td>\n",
       "      <td>2</td>\n",
       "      <td>0</td>\n",
       "      <td>0</td>\n",
       "      <td>0</td>\n",
       "      <td>0</td>\n",
       "      <td>0</td>\n",
       "      <td>0</td>\n",
       "      <td>1</td>\n",
       "      <td>0</td>\n",
       "      <td>...</td>\n",
       "      <td>4</td>\n",
       "      <td>2</td>\n",
       "      <td>2</td>\n",
       "      <td>1</td>\n",
       "      <td>2</td>\n",
       "      <td>2</td>\n",
       "      <td>60</td>\n",
       "      <td>1</td>\n",
       "      <td>2</td>\n",
       "      <td>2.0</td>\n",
       "    </tr>\n",
       "    <tr>\n",
       "      <th>...</th>\n",
       "      <td>...</td>\n",
       "      <td>...</td>\n",
       "      <td>...</td>\n",
       "      <td>...</td>\n",
       "      <td>...</td>\n",
       "      <td>...</td>\n",
       "      <td>...</td>\n",
       "      <td>...</td>\n",
       "      <td>...</td>\n",
       "      <td>...</td>\n",
       "      <td>...</td>\n",
       "      <td>...</td>\n",
       "      <td>...</td>\n",
       "      <td>...</td>\n",
       "      <td>...</td>\n",
       "      <td>...</td>\n",
       "      <td>...</td>\n",
       "      <td>...</td>\n",
       "      <td>...</td>\n",
       "      <td>...</td>\n",
       "      <td>...</td>\n",
       "    </tr>\n",
       "    <tr>\n",
       "      <th>34046</th>\n",
       "      <td>0</td>\n",
       "      <td>1</td>\n",
       "      <td>0</td>\n",
       "      <td>1</td>\n",
       "      <td>1</td>\n",
       "      <td>0</td>\n",
       "      <td>0</td>\n",
       "      <td>1</td>\n",
       "      <td>1</td>\n",
       "      <td>0</td>\n",
       "      <td>...</td>\n",
       "      <td>4</td>\n",
       "      <td>1</td>\n",
       "      <td>2</td>\n",
       "      <td>1</td>\n",
       "      <td>4</td>\n",
       "      <td>1</td>\n",
       "      <td>60</td>\n",
       "      <td>1</td>\n",
       "      <td>3</td>\n",
       "      <td>2.0</td>\n",
       "    </tr>\n",
       "    <tr>\n",
       "      <th>34047</th>\n",
       "      <td>2</td>\n",
       "      <td>2</td>\n",
       "      <td>3</td>\n",
       "      <td>3</td>\n",
       "      <td>3</td>\n",
       "      <td>2</td>\n",
       "      <td>3</td>\n",
       "      <td>3</td>\n",
       "      <td>3</td>\n",
       "      <td>3</td>\n",
       "      <td>...</td>\n",
       "      <td>3</td>\n",
       "      <td>2</td>\n",
       "      <td>1</td>\n",
       "      <td>1</td>\n",
       "      <td>10</td>\n",
       "      <td>3</td>\n",
       "      <td>10</td>\n",
       "      <td>1</td>\n",
       "      <td>4</td>\n",
       "      <td>1.0</td>\n",
       "    </tr>\n",
       "    <tr>\n",
       "      <th>34048</th>\n",
       "      <td>1</td>\n",
       "      <td>0</td>\n",
       "      <td>0</td>\n",
       "      <td>1</td>\n",
       "      <td>0</td>\n",
       "      <td>0</td>\n",
       "      <td>0</td>\n",
       "      <td>1</td>\n",
       "      <td>0</td>\n",
       "      <td>1</td>\n",
       "      <td>...</td>\n",
       "      <td>3</td>\n",
       "      <td>2</td>\n",
       "      <td>2</td>\n",
       "      <td>1</td>\n",
       "      <td>7</td>\n",
       "      <td>1</td>\n",
       "      <td>30</td>\n",
       "      <td>2</td>\n",
       "      <td>3</td>\n",
       "      <td>3.0</td>\n",
       "    </tr>\n",
       "    <tr>\n",
       "      <th>34049</th>\n",
       "      <td>1</td>\n",
       "      <td>2</td>\n",
       "      <td>0</td>\n",
       "      <td>3</td>\n",
       "      <td>0</td>\n",
       "      <td>1</td>\n",
       "      <td>1</td>\n",
       "      <td>1</td>\n",
       "      <td>2</td>\n",
       "      <td>1</td>\n",
       "      <td>...</td>\n",
       "      <td>3</td>\n",
       "      <td>2</td>\n",
       "      <td>2</td>\n",
       "      <td>1</td>\n",
       "      <td>6</td>\n",
       "      <td>1</td>\n",
       "      <td>60</td>\n",
       "      <td>1</td>\n",
       "      <td>2</td>\n",
       "      <td>1.0</td>\n",
       "    </tr>\n",
       "    <tr>\n",
       "      <th>34050</th>\n",
       "      <td>1</td>\n",
       "      <td>3</td>\n",
       "      <td>0</td>\n",
       "      <td>2</td>\n",
       "      <td>3</td>\n",
       "      <td>3</td>\n",
       "      <td>3</td>\n",
       "      <td>1</td>\n",
       "      <td>1</td>\n",
       "      <td>1</td>\n",
       "      <td>...</td>\n",
       "      <td>3</td>\n",
       "      <td>3</td>\n",
       "      <td>2</td>\n",
       "      <td>1</td>\n",
       "      <td>10</td>\n",
       "      <td>1</td>\n",
       "      <td>10</td>\n",
       "      <td>1</td>\n",
       "      <td>4</td>\n",
       "      <td>2.0</td>\n",
       "    </tr>\n",
       "  </tbody>\n",
       "</table>\n",
       "<p>34051 rows × 34 columns</p>\n",
       "</div>"
      ],
      "text/plain": [
       "       Q3A  Q5A  Q10A  Q13A  Q16A  Q17A  Q21A  Q24A  Q26A  Q31A  ...  \\\n",
       "0        3    3     3     3     3     3     3     3     0     3  ...   \n",
       "1        2    3     2     3     2     3     2     1     3     2  ...   \n",
       "2        1    2     1     0     3     1     0     1     0     1  ...   \n",
       "3        1    3     3     1     3     1     3     2     1     3  ...   \n",
       "4        0    2     0     0     0     0     0     0     1     0  ...   \n",
       "...    ...  ...   ...   ...   ...   ...   ...   ...   ...   ...  ...   \n",
       "34046    0    1     0     1     1     0     0     1     1     0  ...   \n",
       "34047    2    2     3     3     3     2     3     3     3     3  ...   \n",
       "34048    1    0     0     1     0     0     0     1     0     1  ...   \n",
       "34049    1    2     0     3     0     1     1     1     2     1  ...   \n",
       "34050    1    3     0     2     3     3     3     1     1     1  ...   \n",
       "\n",
       "       education  urban  gender  uniquenetworklocation  religion  orientation  \\\n",
       "0              2      3       2                      1         4            3   \n",
       "1              3      2       2                      2        10            1   \n",
       "2              2      3       2                      1         4            1   \n",
       "3              2      3       2                      1         7            2   \n",
       "4              4      2       2                      1         2            2   \n",
       "...          ...    ...     ...                    ...       ...          ...   \n",
       "34046          4      1       2                      1         4            1   \n",
       "34047          3      2       1                      1        10            3   \n",
       "34048          3      2       2                      1         7            1   \n",
       "34049          3      2       2                      1         6            1   \n",
       "34050          3      3       2                      1        10            1   \n",
       "\n",
       "       race  married  familysize  Age_Groups  \n",
       "0        60        1           3         1.0  \n",
       "1        10        1           4         1.0  \n",
       "2        70        1           4         1.0  \n",
       "3        60        1           4         1.0  \n",
       "4        60        1           2         2.0  \n",
       "...     ...      ...         ...         ...  \n",
       "34046    60        1           3         2.0  \n",
       "34047    10        1           4         1.0  \n",
       "34048    30        2           3         3.0  \n",
       "34049    60        1           2         1.0  \n",
       "34050    10        1           4         2.0  \n",
       "\n",
       "[34051 rows x 34 columns]"
      ]
     },
     "execution_count": 6,
     "metadata": {},
     "output_type": "execute_result"
    }
   ],
   "source": [
    "print('Training Set:',X_train.shape,y_train.shape)\n",
    "print('Test Set:',X_test.shape,y_test.shape)\n",
    "X"
   ]
  },
  {
   "cell_type": "code",
   "execution_count": 75,
   "metadata": {},
   "outputs": [
    {
     "data": {
      "text/plain": [
       "<seaborn.axisgrid.FacetGrid at 0x1b324d8fee0>"
      ]
     },
     "execution_count": 75,
     "metadata": {},
     "output_type": "execute_result"
    },
    {
     "data": {
      "image/png": "[encoded data removed]",
      "text/plain": [
       "<Figure size 408.75x360 with 1 Axes>"
      ]
     },
     "metadata": {
      "needs_background": "light"
     },
     "output_type": "display_data"
    }
   ],
   "source": [
    "sns.displot(X_train_scaled)"
   ]
  },
  {
   "cell_type": "code",
   "execution_count": 76,
   "metadata": {},
   "outputs": [
    {
     "data": {
      "text/plain": [
       "<seaborn.axisgrid.FacetGrid at 0x1b3238ed250>"
      ]
     },
     "execution_count": 76,
     "metadata": {},
     "output_type": "execute_result"
    },
    {
     "data": {
      "image/png": "[encoded data removed]",
      "text/plain": [
       "<Figure size 408.75x360 with 1 Axes>"
      ]
     },
     "metadata": {
      "needs_background": "light"
     },
     "output_type": "display_data"
    }
   ],
   "source": [
    "sns.displot(X_test_scaled)"
   ]
  },
  {
   "cell_type": "markdown",
   "metadata": {},
   "source": [
    "**Random Forest**"
   ]
  },
  {
   "cell_type": "code",
   "execution_count": 12,
   "metadata": {},
   "outputs": [
    {
     "name": "stderr",
     "output_type": "stream",
     "text": [
      "C:\\Users\\hady2\\AppData\\Local\\Temp\\ipykernel_12940\\2879540987.py:1: DataConversionWarning: A column-vector y was passed when a 1d array was expected. Please change the shape of y to (n_samples,), for example using ravel().\n",
      "  RanFor=RandomForestClassifier(n_estimators=190,min_samples_split=3,min_samples_leaf=1,max_depth=160,max_features='auto').fit(X_train,y_train)\n"
     ]
    },
    {
     "name": "stdout",
     "output_type": "stream",
     "text": [
      "Accuracy: 0.92820437527529\n",
      "F1_Score: 0.9262319710205095\n",
      "Recall_Score: 0.92820437527529\n",
      "Precision_Score: 0.9280910722535888\n"
     ]
    },
    {
     "name": "stderr",
     "output_type": "stream",
     "text": [
      "C:\\Users\\hady2\\anaconda3\\lib\\site-packages\\sklearn\\model_selection\\_validation.py:680: DataConversionWarning: A column-vector y was passed when a 1d array was expected. Please change the shape of y to (n_samples,), for example using ravel().\n",
      "  estimator.fit(X_train, y_train, **fit_params)\n",
      "C:\\Users\\hady2\\anaconda3\\lib\\site-packages\\sklearn\\model_selection\\_validation.py:680: DataConversionWarning: A column-vector y was passed when a 1d array was expected. Please change the shape of y to (n_samples,), for example using ravel().\n",
      "  estimator.fit(X_train, y_train, **fit_params)\n",
      "C:\\Users\\hady2\\anaconda3\\lib\\site-packages\\sklearn\\model_selection\\_validation.py:680: DataConversionWarning: A column-vector y was passed when a 1d array was expected. Please change the shape of y to (n_samples,), for example using ravel().\n",
      "  estimator.fit(X_train, y_train, **fit_params)\n",
      "C:\\Users\\hady2\\anaconda3\\lib\\site-packages\\sklearn\\model_selection\\_validation.py:680: DataConversionWarning: A column-vector y was passed when a 1d array was expected. Please change the shape of y to (n_samples,), for example using ravel().\n",
      "  estimator.fit(X_train, y_train, **fit_params)\n",
      "C:\\Users\\hady2\\anaconda3\\lib\\site-packages\\sklearn\\model_selection\\_validation.py:680: DataConversionWarning: A column-vector y was passed when a 1d array was expected. Please change the shape of y to (n_samples,), for example using ravel().\n",
      "  estimator.fit(X_train, y_train, **fit_params)\n",
      "C:\\Users\\hady2\\anaconda3\\lib\\site-packages\\sklearn\\model_selection\\_validation.py:680: DataConversionWarning: A column-vector y was passed when a 1d array was expected. Please change the shape of y to (n_samples,), for example using ravel().\n",
      "  estimator.fit(X_train, y_train, **fit_params)\n"
     ]
    },
    {
     "name": "stdout",
     "output_type": "stream",
     "text": [
      "Cross Validation Score: 0.9280837004405287 3\n",
      "                  precision    recall  f1-score   support\n",
      "\n",
      "Extremely Severe     0.9854    0.9864    0.9859      2059\n",
      "            Mild     0.8869    0.6750    0.7666       720\n",
      "        Moderate     0.8563    0.9230    0.8884      1259\n",
      "          Normal     0.9338    0.9841    0.9583      1633\n",
      "          Severe     0.9217    0.9088    0.9152      1140\n",
      "\n",
      "        accuracy                         0.9282      6811\n",
      "       macro avg     0.9168    0.8954    0.9029      6811\n",
      "    weighted avg     0.9281    0.9282    0.9262      6811\n",
      "\n"
     ]
    },
    {
     "name": "stderr",
     "output_type": "stream",
     "text": [
      "C:\\Users\\hady2\\anaconda3\\lib\\site-packages\\sklearn\\utils\\deprecation.py:87: FutureWarning: Function plot_confusion_matrix is deprecated; Function `plot_confusion_matrix` is deprecated in 1.0 and will be removed in 1.2. Use one of the class methods: ConfusionMatrixDisplay.from_predictions or ConfusionMatrixDisplay.from_estimator.\n",
      "  warnings.warn(msg, category=FutureWarning)\n"
     ]
    },
    {
     "data": {
      "text/plain": [
       "<sklearn.metrics._plot.confusion_matrix.ConfusionMatrixDisplay at 0x15e0b8214f0>"
      ]
     },
     "execution_count": 12,
     "metadata": {},
     "output_type": "execute_result"
    },
    {
     "data": {
      "image/png": "[encoded data removed]",
      "text/plain": [
       "<Figure size 720x720 with 2 Axes>"
      ]
     },
     "metadata": {
      "needs_background": "light"
     },
     "output_type": "display_data"
    }
   ],
   "source": [
    "RanFor=RandomForestClassifier(n_estimators=190,min_samples_split=3,min_samples_leaf=1,max_depth=160,max_features='auto').fit(X_train,y_train)\n",
    "Acc_ran= accuracy_score(y_test,RanFor.predict(X_test))\n",
    "f1_ran= f1_score(y_test,RanFor.predict(X_test),average='weighted')\n",
    "recall_ran= recall_score(y_test,RanFor.predict(X_test),average='weighted')\n",
    "precision_ran= precision_score(y_test,RanFor.predict(X_test),average='weighted')\n",
    "print('Accuracy:',Acc_ran)\n",
    "print('F1_Score:',f1_ran)\n",
    "print('Recall_Score:',recall_ran)\n",
    "print('Precision_Score:',precision_ran)\n",
    "print('Cross Validation Score:', np.mean(cross_val_score(RanFor, X_train, y_train, cv = 6)),3)\n",
    "classification=classification_report(\n",
    "    digits=4,\n",
    "    y_true=y_test,\n",
    "    y_pred=RanFor.predict(X_test))\n",
    "print(classification)\n",
    "fig, ax = plt.subplots(figsize=(10, 10))\n",
    "plot_confusion_matrix(RanFor,X_test,y_test,ax=ax)"
   ]
  },
  {
   "cell_type": "markdown",
   "metadata": {},
   "source": [
    "**2. Decision Trees**"
   ]
  },
  {
   "cell_type": "code",
   "execution_count": 78,
   "metadata": {},
   "outputs": [
    {
     "name": "stdout",
     "output_type": "stream",
     "text": [
      "Accuracy: 0.803\n",
      "F1_Score: 0.8034910799782167\n",
      "Recall_Score: 0.8028189693143445\n",
      "Precision_Score: 0.8048538228824519\n",
      "Cross Validation Score: 0.7944933920704846 3\n",
      "                  precision    recall  f1-score   support\n",
      "\n",
      "Extremely Severe     0.9247    0.9305    0.9276      2059\n",
      "            Mild     0.5468    0.6083    0.5759       720\n",
      "        Moderate     0.6991    0.7014    0.7002      1259\n",
      "          Normal     0.9122    0.9039    0.9080      1633\n",
      "          Severe     0.7143    0.6623    0.6873      1140\n",
      "\n",
      "        accuracy                         0.8028      6811\n",
      "       macro avg     0.7594    0.7613    0.7598      6811\n",
      "    weighted avg     0.8049    0.8028    0.8035      6811\n",
      "\n"
     ]
    },
    {
     "name": "stderr",
     "output_type": "stream",
     "text": [
      "C:\\Users\\hady2\\anaconda3\\lib\\site-packages\\sklearn\\utils\\deprecation.py:87: FutureWarning: Function plot_confusion_matrix is deprecated; Function `plot_confusion_matrix` is deprecated in 1.0 and will be removed in 1.2. Use one of the class methods: ConfusionMatrixDisplay.from_predictions or ConfusionMatrixDisplay.from_estimator.\n",
      "  warnings.warn(msg, category=FutureWarning)\n"
     ]
    },
    {
     "data": {
      "text/plain": [
       "<sklearn.metrics._plot.confusion_matrix.ConfusionMatrixDisplay at 0x1b33b7c5b20>"
      ]
     },
     "execution_count": 78,
     "metadata": {},
     "output_type": "execute_result"
    },
    {
     "data": {
      "image/png": "[encoded data removed]",
      "text/plain": [
       "<Figure size 720x720 with 2 Axes>"
      ]
     },
     "metadata": {
      "needs_background": "light"
     },
     "output_type": "display_data"
    }
   ],
   "source": [
    "DT=DecisionTreeClassifier(criterion='entropy',splitter='best',min_samples_split=9,min_samples_leaf=2,max_depth=100).fit(X_train,y_train)\n",
    "Acc_dt=round(accuracy_score(y_test,DT.predict(X_test)),3)\n",
    "f1_dt=f1_score(y_test,DT.predict(X_test),average='weighted')\n",
    "recall_dt=recall_score(y_test,DT.predict(X_test),average='weighted')\n",
    "precision_dt=precision_score(y_test,DT.predict(X_test),average='weighted')\n",
    "print('Accuracy:',Acc_dt)\n",
    "print('F1_Score:',f1_dt)\n",
    "print('Recall_Score:',recall_dt)\n",
    "print('Precision_Score:',precision_dt)\n",
    "print('Cross Validation Score:',np.mean(cross_val_score(DT, X_train, y_train, cv = 6)),3)\n",
    "classification=classification_report(\n",
    "    digits=4,\n",
    "    y_true=y_test,\n",
    "    y_pred=DT.predict(X_test))\n",
    "print(classification)\n",
    "fig, ax = plt.subplots(figsize=(10, 10))\n",
    "plot_confusion_matrix(DT,X_test,y_test,ax=ax)"
   ]
  },
  {
   "cell_type": "markdown",
   "metadata": {},
   "source": [
    "**Gaussian Naive Bayes**"
   ]
  },
  {
   "cell_type": "code",
   "execution_count": 79,
   "metadata": {},
   "outputs": [
    {
     "name": "stderr",
     "output_type": "stream",
     "text": [
      "C:\\Users\\hady2\\anaconda3\\lib\\site-packages\\sklearn\\utils\\validation.py:993: DataConversionWarning: A column-vector y was passed when a 1d array was expected. Please change the shape of y to (n_samples, ), for example using ravel().\n",
      "  y = column_or_1d(y, warn=True)\n",
      "C:\\Users\\hady2\\anaconda3\\lib\\site-packages\\sklearn\\utils\\validation.py:993: DataConversionWarning: A column-vector y was passed when a 1d array was expected. Please change the shape of y to (n_samples, ), for example using ravel().\n",
      "  y = column_or_1d(y, warn=True)\n"
     ]
    },
    {
     "name": "stdout",
     "output_type": "stream",
     "text": [
      "Accuracy: 0.8743209514021436\n",
      "F1_Score: 0.8790455345096997\n",
      "Recall_Score: 0.8743209514021436\n",
      "Precision_Score: 0.8941733809944198\n"
     ]
    },
    {
     "name": "stderr",
     "output_type": "stream",
     "text": [
      "C:\\Users\\hady2\\anaconda3\\lib\\site-packages\\sklearn\\utils\\validation.py:993: DataConversionWarning: A column-vector y was passed when a 1d array was expected. Please change the shape of y to (n_samples, ), for example using ravel().\n",
      "  y = column_or_1d(y, warn=True)\n",
      "C:\\Users\\hady2\\anaconda3\\lib\\site-packages\\sklearn\\utils\\validation.py:993: DataConversionWarning: A column-vector y was passed when a 1d array was expected. Please change the shape of y to (n_samples, ), for example using ravel().\n",
      "  y = column_or_1d(y, warn=True)\n",
      "C:\\Users\\hady2\\anaconda3\\lib\\site-packages\\sklearn\\utils\\validation.py:993: DataConversionWarning: A column-vector y was passed when a 1d array was expected. Please change the shape of y to (n_samples, ), for example using ravel().\n",
      "  y = column_or_1d(y, warn=True)\n",
      "C:\\Users\\hady2\\anaconda3\\lib\\site-packages\\sklearn\\utils\\validation.py:993: DataConversionWarning: A column-vector y was passed when a 1d array was expected. Please change the shape of y to (n_samples, ), for example using ravel().\n",
      "  y = column_or_1d(y, warn=True)\n",
      "C:\\Users\\hady2\\anaconda3\\lib\\site-packages\\sklearn\\utils\\validation.py:993: DataConversionWarning: A column-vector y was passed when a 1d array was expected. Please change the shape of y to (n_samples, ), for example using ravel().\n",
      "  y = column_or_1d(y, warn=True)\n"
     ]
    },
    {
     "name": "stdout",
     "output_type": "stream",
     "text": [
      "Cross Validation Score: 0.8757709251101321 3\n",
      "                  precision    recall  f1-score   support\n",
      "\n",
      "Extremely Severe     1.0000    0.8708    0.9309      2059\n",
      "            Mild     0.6543    0.8361    0.7341       720\n",
      "        Moderate     0.8568    0.8554    0.8561      1259\n",
      "          Normal     0.9930    0.8665    0.9254      1633\n",
      "          Severe     0.7542    0.9368    0.8357      1140\n",
      "\n",
      "        accuracy                         0.8743      6811\n",
      "       macro avg     0.8517    0.8731    0.8565      6811\n",
      "    weighted avg     0.8942    0.8743    0.8790      6811\n",
      "\n"
     ]
    },
    {
     "name": "stderr",
     "output_type": "stream",
     "text": [
      "C:\\Users\\hady2\\anaconda3\\lib\\site-packages\\sklearn\\utils\\deprecation.py:87: FutureWarning: Function plot_confusion_matrix is deprecated; Function `plot_confusion_matrix` is deprecated in 1.0 and will be removed in 1.2. Use one of the class methods: ConfusionMatrixDisplay.from_predictions or ConfusionMatrixDisplay.from_estimator.\n",
      "  warnings.warn(msg, category=FutureWarning)\n"
     ]
    },
    {
     "data": {
      "text/plain": [
       "<sklearn.metrics._plot.confusion_matrix.ConfusionMatrixDisplay at 0x1b33b8cb040>"
      ]
     },
     "execution_count": 79,
     "metadata": {},
     "output_type": "execute_result"
    },
    {
     "data": {
      "image/png": "[encoded data removed]",
      "text/plain": [
       "<Figure size 720x720 with 2 Axes>"
      ]
     },
     "metadata": {
      "needs_background": "light"
     },
     "output_type": "display_data"
    }
   ],
   "source": [
    "gb=GaussianNB().fit(X_train,y_train)\n",
    "Acc_gb=accuracy_score(y_test,gb.predict(X_test))\n",
    "f1_gb=f1_score(y_test,gb.predict(X_test),average='weighted')\n",
    "recall_gb=recall_score(y_test,gb.predict(X_test),average='weighted')\n",
    "precision_gb=precision_score(y_test,gb.predict(X_test),average='weighted')\n",
    "print('Accuracy:',Acc_gb)\n",
    "print('F1_Score:',f1_gb)\n",
    "print('Recall_Score:',recall_gb)\n",
    "print('Precision_Score:',precision_gb)\n",
    "print('Cross Validation Score:',np.mean(cross_val_score(gb, X_train, y_train, cv = 6)),3)\n",
    "classification=classification_report(\n",
    "    digits=4,\n",
    "    y_true=y_test,\n",
    "    y_pred=gb.predict(X_test))\n",
    "print(classification)\n",
    "fig, ax = plt.subplots(figsize=(10, 10))\n",
    "plot_confusion_matrix(gb,X_test,y_test,ax=ax)"
   ]
  },
  {
   "cell_type": "markdown",
   "metadata": {},
   "source": [
    "**Nearest Neighbours**"
   ]
  },
  {
   "cell_type": "code",
   "execution_count": 80,
   "metadata": {},
   "outputs": [
    {
     "name": "stderr",
     "output_type": "stream",
     "text": [
      "C:\\Users\\hady2\\anaconda3\\lib\\site-packages\\sklearn\\neighbors\\_classification.py:198: DataConversionWarning: A column-vector y was passed when a 1d array was expected. Please change the shape of y to (n_samples,), for example using ravel().\n",
      "  return self._fit(X, y)\n"
     ]
    },
    {
     "name": "stdout",
     "output_type": "stream",
     "text": [
      "Accuracy: 0.7907796212009984\n",
      "F1_Score: 0.7729152007064756\n",
      "Recall_Score: 0.7907796212009984\n",
      "Precision_Score: 0.7857503220104467\n"
     ]
    },
    {
     "name": "stderr",
     "output_type": "stream",
     "text": [
      "C:\\Users\\hady2\\anaconda3\\lib\\site-packages\\sklearn\\neighbors\\_classification.py:198: DataConversionWarning: A column-vector y was passed when a 1d array was expected. Please change the shape of y to (n_samples,), for example using ravel().\n",
      "  return self._fit(X, y)\n",
      "C:\\Users\\hady2\\anaconda3\\lib\\site-packages\\sklearn\\neighbors\\_classification.py:198: DataConversionWarning: A column-vector y was passed when a 1d array was expected. Please change the shape of y to (n_samples,), for example using ravel().\n",
      "  return self._fit(X, y)\n",
      "C:\\Users\\hady2\\anaconda3\\lib\\site-packages\\sklearn\\neighbors\\_classification.py:198: DataConversionWarning: A column-vector y was passed when a 1d array was expected. Please change the shape of y to (n_samples,), for example using ravel().\n",
      "  return self._fit(X, y)\n",
      "C:\\Users\\hady2\\anaconda3\\lib\\site-packages\\sklearn\\neighbors\\_classification.py:198: DataConversionWarning: A column-vector y was passed when a 1d array was expected. Please change the shape of y to (n_samples,), for example using ravel().\n",
      "  return self._fit(X, y)\n",
      "C:\\Users\\hady2\\anaconda3\\lib\\site-packages\\sklearn\\neighbors\\_classification.py:198: DataConversionWarning: A column-vector y was passed when a 1d array was expected. Please change the shape of y to (n_samples,), for example using ravel().\n",
      "  return self._fit(X, y)\n",
      "C:\\Users\\hady2\\anaconda3\\lib\\site-packages\\sklearn\\neighbors\\_classification.py:198: DataConversionWarning: A column-vector y was passed when a 1d array was expected. Please change the shape of y to (n_samples,), for example using ravel().\n",
      "  return self._fit(X, y)\n"
     ]
    },
    {
     "name": "stdout",
     "output_type": "stream",
     "text": [
      "Cross Validation Score: 0.7897577092511012 3\n",
      "                  precision    recall  f1-score   support\n",
      "\n",
      "Extremely Severe     0.9106    0.9747    0.9416      2059\n",
      "            Mild     0.5702    0.2875    0.3823       720\n",
      "        Moderate     0.6359    0.8102    0.7125      1259\n",
      "          Normal     0.8118    0.9669    0.8826      1633\n",
      "          Severe     0.8245    0.5026    0.6245      1140\n",
      "\n",
      "        accuracy                         0.7908      6811\n",
      "       macro avg     0.7506    0.7084    0.7087      6811\n",
      "    weighted avg     0.7858    0.7908    0.7729      6811\n",
      "\n"
     ]
    },
    {
     "name": "stderr",
     "output_type": "stream",
     "text": [
      "C:\\Users\\hady2\\anaconda3\\lib\\site-packages\\sklearn\\utils\\deprecation.py:87: FutureWarning: Function plot_confusion_matrix is deprecated; Function `plot_confusion_matrix` is deprecated in 1.0 and will be removed in 1.2. Use one of the class methods: ConfusionMatrixDisplay.from_predictions or ConfusionMatrixDisplay.from_estimator.\n",
      "  warnings.warn(msg, category=FutureWarning)\n"
     ]
    },
    {
     "data": {
      "text/plain": [
       "<sklearn.metrics._plot.confusion_matrix.ConfusionMatrixDisplay at 0x1b33b744130>"
      ]
     },
     "execution_count": 80,
     "metadata": {},
     "output_type": "execute_result"
    },
    {
     "data": {
      "image/png": "[encoded data removed]",
      "text/plain": [
       "<Figure size 720x720 with 2 Axes>"
      ]
     },
     "metadata": {
      "needs_background": "light"
     },
     "output_type": "display_data"
    }
   ],
   "source": [
    "knn=KNeighborsClassifier(n_neighbors=15).fit(X_train,y_train)\n",
    "Acc_knn=accuracy_score(y_test,knn.predict(X_test))\n",
    "f1_knn=f1_score(y_test,knn.predict(X_test),average='weighted')\n",
    "recall_knn=recall_score(y_test,knn.predict(X_test),average='weighted')\n",
    "precision_knn=precision_score(y_test,knn.predict(X_test),average='weighted')\n",
    "print('Accuracy:',Acc_knn)\n",
    "print('F1_Score:',f1_knn)\n",
    "print('Recall_Score:',recall_knn)\n",
    "print('Precision_Score:',precision_knn)\n",
    "print('Cross Validation Score:',np.mean(cross_val_score(knn, X_train, y_train, cv = 6)),3)\n",
    "classification=classification_report(\n",
    "    digits=4,\n",
    "    y_true=y_test,\n",
    "    y_pred=knn.predict(X_test))\n",
    "print(classification)\n",
    "fig, ax = plt.subplots(figsize=(10, 10))\n",
    "plot_confusion_matrix(knn,X_test,y_test,ax=ax)"
   ]
  },
  {
   "cell_type": "markdown",
   "metadata": {},
   "source": [
    "**Support Vector Machines**"
   ]
  },
  {
   "cell_type": "code",
   "execution_count": 81,
   "metadata": {},
   "outputs": [
    {
     "name": "stderr",
     "output_type": "stream",
     "text": [
      "C:\\Users\\hady2\\anaconda3\\lib\\site-packages\\sklearn\\utils\\validation.py:993: DataConversionWarning: A column-vector y was passed when a 1d array was expected. Please change the shape of y to (n_samples, ), for example using ravel().\n",
      "  y = column_or_1d(y, warn=True)\n"
     ]
    },
    {
     "name": "stdout",
     "output_type": "stream",
     "text": [
      "Accuracy: 0.8142710321538688\n",
      "F1_Score: 0.8037368023953164\n",
      "Recall_Score: 0.8142710321538688\n",
      "Precision_Score: 0.8302322148896083\n"
     ]
    },
    {
     "name": "stderr",
     "output_type": "stream",
     "text": [
      "C:\\Users\\hady2\\anaconda3\\lib\\site-packages\\sklearn\\utils\\validation.py:993: DataConversionWarning: A column-vector y was passed when a 1d array was expected. Please change the shape of y to (n_samples, ), for example using ravel().\n",
      "  y = column_or_1d(y, warn=True)\n",
      "C:\\Users\\hady2\\anaconda3\\lib\\site-packages\\sklearn\\utils\\validation.py:993: DataConversionWarning: A column-vector y was passed when a 1d array was expected. Please change the shape of y to (n_samples, ), for example using ravel().\n",
      "  y = column_or_1d(y, warn=True)\n",
      "C:\\Users\\hady2\\anaconda3\\lib\\site-packages\\sklearn\\utils\\validation.py:993: DataConversionWarning: A column-vector y was passed when a 1d array was expected. Please change the shape of y to (n_samples, ), for example using ravel().\n",
      "  y = column_or_1d(y, warn=True)\n",
      "C:\\Users\\hady2\\anaconda3\\lib\\site-packages\\sklearn\\utils\\validation.py:993: DataConversionWarning: A column-vector y was passed when a 1d array was expected. Please change the shape of y to (n_samples, ), for example using ravel().\n",
      "  y = column_or_1d(y, warn=True)\n",
      "C:\\Users\\hady2\\anaconda3\\lib\\site-packages\\sklearn\\utils\\validation.py:993: DataConversionWarning: A column-vector y was passed when a 1d array was expected. Please change the shape of y to (n_samples, ), for example using ravel().\n",
      "  y = column_or_1d(y, warn=True)\n",
      "C:\\Users\\hady2\\anaconda3\\lib\\site-packages\\sklearn\\utils\\validation.py:993: DataConversionWarning: A column-vector y was passed when a 1d array was expected. Please change the shape of y to (n_samples, ), for example using ravel().\n",
      "  y = column_or_1d(y, warn=True)\n"
     ]
    },
    {
     "name": "stdout",
     "output_type": "stream",
     "text": [
      "Cross Validation Score: 0.7940528634361232 3\n",
      "                  precision    recall  f1-score   support\n",
      "\n",
      "Extremely Severe     0.7375    0.9961    0.8475      2059\n",
      "            Mild     0.8783    0.4208    0.5690       720\n",
      "        Moderate     0.7854    0.7760    0.7807      1259\n",
      "          Normal     0.9090    0.9179    0.9135      1633\n",
      "          Severe     0.9040    0.6281    0.7412      1140\n",
      "\n",
      "        accuracy                         0.8143      6811\n",
      "       macro avg     0.8428    0.7478    0.7704      6811\n",
      "    weighted avg     0.8302    0.8143    0.8037      6811\n",
      "\n"
     ]
    },
    {
     "name": "stderr",
     "output_type": "stream",
     "text": [
      "C:\\Users\\hady2\\anaconda3\\lib\\site-packages\\sklearn\\utils\\deprecation.py:87: FutureWarning: Function plot_confusion_matrix is deprecated; Function `plot_confusion_matrix` is deprecated in 1.0 and will be removed in 1.2. Use one of the class methods: ConfusionMatrixDisplay.from_predictions or ConfusionMatrixDisplay.from_estimator.\n",
      "  warnings.warn(msg, category=FutureWarning)\n"
     ]
    },
    {
     "data": {
      "text/plain": [
       "<sklearn.metrics._plot.confusion_matrix.ConfusionMatrixDisplay at 0x1b349dbd1f0>"
      ]
     },
     "execution_count": 81,
     "metadata": {},
     "output_type": "execute_result"
    },
    {
     "data": {
      "image/png": "[encoded data removed]",
      "text/plain": [
       "<Figure size 720x720 with 2 Axes>"
      ]
     },
     "metadata": {
      "needs_background": "light"
     },
     "output_type": "display_data"
    }
   ],
   "source": [
    "from sklearn.svm import SVC\n",
    "svm=SVC(C=100,gamma=0.1,kernel='rbf').fit(X_train,y_train)\n",
    "Acc_svm=accuracy_score(y_test,svm.predict(X_test))\n",
    "f1_svm=f1_score(y_test,svm.predict(X_test),average='weighted')\n",
    "recall_svm=recall_score(y_test,svm.predict(X_test),average='weighted')\n",
    "precision_svm=precision_score(y_test,svm.predict(X_test),average='weighted')\n",
    "print('Accuracy:',Acc_svm)\n",
    "print('F1_Score:',f1_svm)\n",
    "print('Recall_Score:',recall_svm)\n",
    "print('Precision_Score:',precision_svm)\n",
    "print('Cross Validation Score:',np.mean(cross_val_score(svm, X_train, y_train, cv = 6)),3)\n",
    "classification=classification_report(\n",
    "    digits=4,\n",
    "    y_true=y_test,\n",
    "    y_pred=svm.predict(X_test))\n",
    "print(classification)\n",
    "fig, ax = plt.subplots(figsize=(10, 10))\n",
    "plot_confusion_matrix(svm,X_test,y_test,ax=ax)"
   ]
  },
  {
   "cell_type": "code",
   "execution_count": 82,
   "metadata": {},
   "outputs": [],
   "source": [
    "Result={\n",
    "                  'Model':['Random-Forest','Decision-Tree','GaussianNB','Nearest-Neighbors','SVM'],\n",
    "                  'Accuracy(%)':[Acc_ran*100,Acc_dt*100,Acc_gb*100,Acc_knn*100,Acc_svm*100],\n",
    "                  'F1_Score(%)':[f1_ran*100,f1_dt*100,f1_gb*100,f1_knn*100,f1_svm*100],\n",
    "                  'Precision(%)':[precision_ran*100,precision_dt*100,precision_gb*100,precision_knn*100,precision_svm*100],\n",
    "                  'Recall(%)':[recall_ran*100,recall_dt*100,recall_gb*100,recall_knn*100,recall_svm*100],\n",
    "                    }\n",
    "Result_Depression=pd.DataFrame(Result)\n",
    "\n",
    "                                                                                            \n",
    "                                                                                                                "
   ]
  },
  {
   "cell_type": "markdown",
   "metadata": {},
   "source": [
    "# Results Achieved from above Modellings"
   ]
  },
  {
   "cell_type": "code",
   "execution_count": 83,
   "metadata": {},
   "outputs": [
    {
     "data": {
      "text/html": [
       "<div>\n",
       "<style scoped>\n",
       "    .dataframe tbody tr th:only-of-type {\n",
       "        vertical-align: middle;\n",
       "    }\n",
       "\n",
       "    .dataframe tbody tr th {\n",
       "        vertical-align: top;\n",
       "    }\n",
       "\n",
       "    .dataframe thead th {\n",
       "        text-align: right;\n",
       "    }\n",
       "</style>\n",
       "<table border=\"1\" class=\"dataframe\">\n",
       "  <thead>\n",
       "    <tr style=\"text-align: right;\">\n",
       "      <th></th>\n",
       "      <th>Model</th>\n",
       "      <th>Accuracy(%)</th>\n",
       "      <th>F1_Score(%)</th>\n",
       "      <th>Precision(%)</th>\n",
       "      <th>Recall(%)</th>\n",
       "    </tr>\n",
       "  </thead>\n",
       "  <tbody>\n",
       "    <tr>\n",
       "      <th>0</th>\n",
       "      <td>Random-Forest</td>\n",
       "      <td>93.084716</td>\n",
       "      <td>92.902123</td>\n",
       "      <td>93.106687</td>\n",
       "      <td>93.084716</td>\n",
       "    </tr>\n",
       "    <tr>\n",
       "      <th>1</th>\n",
       "      <td>Decision-Tree</td>\n",
       "      <td>80.300000</td>\n",
       "      <td>80.349108</td>\n",
       "      <td>80.485382</td>\n",
       "      <td>80.281897</td>\n",
       "    </tr>\n",
       "    <tr>\n",
       "      <th>2</th>\n",
       "      <td>GaussianNB</td>\n",
       "      <td>87.432095</td>\n",
       "      <td>87.904553</td>\n",
       "      <td>89.417338</td>\n",
       "      <td>87.432095</td>\n",
       "    </tr>\n",
       "    <tr>\n",
       "      <th>3</th>\n",
       "      <td>Nearest-Neighbors</td>\n",
       "      <td>79.077962</td>\n",
       "      <td>77.291520</td>\n",
       "      <td>78.575032</td>\n",
       "      <td>79.077962</td>\n",
       "    </tr>\n",
       "    <tr>\n",
       "      <th>4</th>\n",
       "      <td>SVM</td>\n",
       "      <td>81.427103</td>\n",
       "      <td>80.373680</td>\n",
       "      <td>83.023221</td>\n",
       "      <td>81.427103</td>\n",
       "    </tr>\n",
       "  </tbody>\n",
       "</table>\n",
       "</div>"
      ],
      "text/plain": [
       "               Model  Accuracy(%)  F1_Score(%)  Precision(%)  Recall(%)\n",
       "0      Random-Forest    93.084716    92.902123     93.106687  93.084716\n",
       "1      Decision-Tree    80.300000    80.349108     80.485382  80.281897\n",
       "2         GaussianNB    87.432095    87.904553     89.417338  87.432095\n",
       "3  Nearest-Neighbors    79.077962    77.291520     78.575032  79.077962\n",
       "4                SVM    81.427103    80.373680     83.023221  81.427103"
      ]
     },
     "execution_count": 83,
     "metadata": {},
     "output_type": "execute_result"
    }
   ],
   "source": [
    "Result_Depression"
   ]
  },
  {
   "cell_type": "code",
   "execution_count": 84,
   "metadata": {},
   "outputs": [
    {
     "data": {
      "image/png": "[encoded data removed]",
      "text/plain": [
       "<Figure size 1080x720 with 1 Axes>"
      ]
     },
     "metadata": {
      "needs_background": "light"
     },
     "output_type": "display_data"
    }
   ],
   "source": [
    "splot=Result_Depression.plot(x='Model',y=['Accuracy(%)','F1_Score(%)','Precision(%)','Recall(%)'],kind='bar',figsize=(15,10),cmap='Spectral',width=0.9)\n",
    "for p in splot.patches:\n",
    "    splot.annotate(format(round(p.get_height()), '.0f'),\n",
    "                   (p.get_x() + p.get_width() / 2., p.get_height()),\n",
    "                   ha='center', va='center',\n",
    "                   xytext=(0,7),\n",
    "                   textcoords='offset points')\n",
    "plt.title('Evaluation Scores For Depression Data for various Models')\n",
    "plt.ylabel('Percentage')\n",
    "plt.xlabel('Models')\n",
    "plt.legend(loc='upper left')\n",
    "for pos in ['right', 'top', 'bottom', 'left']:\n",
    "    plt.gca().spines[pos].set_visible(False)\n",
    "plt.show()"
   ]
  },
  {
   "cell_type": "code",
   "execution_count": 85,
   "metadata": {},
   "outputs": [
    {
     "data": {
      "image/png": "[encoded data removed]",
      "text/plain": [
       "<Figure size 720x720 with 1 Axes>"
      ]
     },
     "metadata": {
      "needs_background": "light"
     },
     "output_type": "display_data"
    }
   ],
   "source": [
    "x=['Random-Forest','Decision-Tree','GaussianNB','Nearest-Neighbors','SVM']\n",
    "widt=0.25\n",
    "X=np.arange(len(x))\n",
    "plt.figure(figsize=(10,10))\n",
    "bar1=plt.bar(X,Result_Depression['Accuracy(%)'],widt,color='r')\n",
    "\n",
    "\n",
    "for bar in bar1:\n",
    "    plt.text(bar.get_x() + bar.get_width()/2, bar.get_height()+1, str(int(bar.get_height())), \n",
    "                 ha='center', color='m', fontsize=11)\n",
    "\n",
    "plt.xticks(X+widt,x)\n",
    "plt.legend( (bar1),('Depression'))\n",
    "plt.title('Accuracy Scores for Different Models for the Datasets')\n",
    "plt.ylabel('Percentage',fontsize=17,color='red')\n",
    "plt.xlabel('Models',fontsize=15,color='red')\n",
    "for pos in ['right', 'top', 'bottom', 'left']:\n",
    "    plt.gca().spines[pos].set_visible(False)\n",
    "plt.show()\n"
   ]
  },
  {
   "cell_type": "code",
   "execution_count": 86,
   "metadata": {},
   "outputs": [
    {
     "data": {
      "image/png": "[encoded data removed]",
      "text/plain": [
       "<Figure size 720x720 with 1 Axes>"
      ]
     },
     "metadata": {
      "needs_background": "light"
     },
     "output_type": "display_data"
    }
   ],
   "source": [
    "x=['Random-Forest','Decision-Tree','GaussianNB','Nearest-Neighbors','SVM']\n",
    "width=0.25\n",
    "X=np.arange(len(x))\n",
    "plt.figure(figsize=(10,10))\n",
    "bar1=plt.bar(X,Result_Depression['F1_Score(%)'],width,color='mistyrose')\n",
    "\n",
    "\n",
    "for bar in bar1:\n",
    "    plt.text(bar.get_x() + bar.get_width()/2, bar.get_height()+1, str(int(bar.get_height())), \n",
    "                   ha='center', color='gray', fontsize=11)\n",
    "plt.xticks(X+width,x)\n",
    "plt.legend( (bar1),('Depression'))\n",
    "plt.title('F1_Scores Scores for Different Models for the Datasets')\n",
    "plt.ylabel('Percentage',fontsize=17,color='red')\n",
    "plt.xlabel('Models',fontsize=15,color='red')\n",
    "for pos in ['right', 'top', 'bottom', 'left']:\n",
    "    plt.gca().spines[pos].set_visible(False)\n",
    "plt.show()\n"
   ]
  },
  {
   "cell_type": "code",
   "execution_count": 87,
   "metadata": {},
   "outputs": [
    {
     "data": {
      "image/png": "[encoded data removed]",
      "text/plain": [
       "<Figure size 720x720 with 1 Axes>"
      ]
     },
     "metadata": {
      "needs_background": "light"
     },
     "output_type": "display_data"
    }
   ],
   "source": [
    "x=['Random-Forest','Decision-Tree','GaussianNB','Nearest-Neighbors','SVM']\n",
    "width=0.25\n",
    "X=np.arange(len(x))\n",
    "plt.figure(figsize=(10,10))\n",
    "bar1=plt.bar(X,Result_Depression['Precision(%)'],width,color='black')\n",
    "\n",
    "for bar in bar1:\n",
    "    plt.text(bar.get_x() + bar.get_width()/2, bar.get_height()+1, str(int(bar.get_height())), \n",
    "                 ha='center', color='gray', fontsize=11)\n",
    "\n",
    "plt.xticks(X+width,x)\n",
    "plt.legend( (bar1),('Depression'))\n",
    "plt.title('Precision Scores for Different Models for the Datasets')\n",
    "plt.ylabel('Percentage',fontsize=17,color='red')\n",
    "plt.xlabel('Models',fontsize=15,color='red')\n",
    "for pos in ['right', 'top', 'bottom', 'left']:\n",
    "    plt.gca().spines[pos].set_visible(False)\n",
    "plt.show()\n"
   ]
  },
  {
   "cell_type": "code",
   "execution_count": 88,
   "metadata": {},
   "outputs": [
    {
     "data": {
      "image/png": "[encoded data removed]",
      "text/plain": [
       "<Figure size 720x720 with 1 Axes>"
      ]
     },
     "metadata": {
      "needs_background": "light"
     },
     "output_type": "display_data"
    }
   ],
   "source": [
    "x=['Random-Forest','Decision-Tree','GaussianNB','Nearest-Neighbors','SVM']\n",
    "width=0.25\n",
    "X=np.arange(len(x))\n",
    "plt.figure(figsize=(10,10))\n",
    "bar1=plt.bar(X,Result_Depression['Recall(%)'],width,color='indigo')\n",
    "\n",
    "for bar in bar1:\n",
    "    plt.text(bar.get_x() + bar.get_width()/2, bar.get_height()+1, str(int(bar.get_height())), \n",
    "                 ha='center', color='darkorange', fontsize=11)\n",
    "\n",
    "plt.xticks(X+width,x)\n",
    "plt.legend( (bar1),('Depression'))\n",
    "plt.title('Recall Scores for Different Models for the Datasets')\n",
    "plt.ylabel('Percentage',fontsize=17,color='red')\n",
    "plt.xlabel('Models',fontsize=15,color='red')\n",
    "for pos in ['right', 'top', 'bottom', 'left']:\n",
    "    plt.gca().spines[pos].set_visible(False)\n",
    "plt.show()\n"
   ]
  },
  {
   "cell_type": "code",
   "execution_count": 13,
   "metadata": {},
   "outputs": [],
   "source": [
    "import pickle\n",
    "filename ='finalized_model_RanFor5.sav'\n",
    "pickle.dump(RanFor,open(filename,'wb'))"
   ]
  },
  {
   "cell_type": "code",
   "execution_count": 90,
   "metadata": {},
   "outputs": [
    {
     "name": "stderr",
     "output_type": "stream",
     "text": [
      "C:\\Users\\hady2\\anaconda3\\lib\\site-packages\\sklearn\\base.py:450: UserWarning: X does not have valid feature names, but RandomForestClassifier was fitted with feature names\n",
      "  warnings.warn(\n"
     ]
    }
   ],
   "source": [
    "loaded_model = pickle.load(open(filename,'rb'))\n",
    "Acc_svm=round(accuracy_score(y_test,loaded_model.predict(X_test_scaled)),3)"
   ]
  },
  {
   "cell_type": "code",
   "execution_count": 91,
   "metadata": {},
   "outputs": [],
   "source": [
    "Alpha = [[3, 3, 3, 3, 3, 3, 3, 3, 0,3, 3, 3, 3, 3, 2, 5, 2, 2,5, 6, 5,5, 3,2, 2, 3, 2, 2,2, 1, 1, 4,3,60, 1,1, 3,1]]\n",
    "#Alpha1=scaler.fit_transform(Alpha)\n",
    "#prediction1 = svm.predict(Alpha1)\n",
    "#prediction1"
   ]
  },
  {
   "cell_type": "code",
   "execution_count": null,
   "metadata": {},
   "outputs": [],
   "source": []
  },
  {
   "cell_type": "code",
   "execution_count": null,
   "metadata": {},
   "outputs": [],
   "source": []
  },
  {
   "cell_type": "code",
   "execution_count": null,
   "metadata": {},
   "outputs": [],
   "source": []
  },
  {
   "cell_type": "code",
   "execution_count": null,
   "metadata": {},
   "outputs": [],
   "source": []
  }
 ],
 "metadata": {
  "kernelspec": {
   "display_name": "Python 3 (ipykernel)",
   "language": "python",
   "name": "python3"
  },
  "language_info": {
   "codemirror_mode": {
    "name": "ipython",
    "version": 3
   },
   "file_extension": ".py",
   "mimetype": "text/x-python",
   "name": "python",
   "nbconvert_exporter": "python",
   "pygments_lexer": "ipython3",
   "version": "3.9.12"
  }
 },
 "nbformat": 4,
 "nbformat_minor": 4
}
